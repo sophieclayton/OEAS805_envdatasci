{
 "cells": [
  {
   "cell_type": "markdown",
   "id": "ccfc2349",
   "metadata": {},
   "source": [
    "# Exploratory Data Analysis (EDA) example\n",
    "\n",
    "This notebook will run through some of the basic analyses that you would typically do during EDA to get to know your data better. In this example, we will use data on the daily temperature in major global cities that can be downloaded from here: \n",
    "https://www.kaggle.com/datasets/sudalairajkumar/daily-temperature-of-major-cities\n",
    "\n",
    "The data were originally sourced from the National Climatic Data Center, compiled by the University of Dayton. More info and data descriptions and documentation can be found here:\n",
    "https://academic.udayton.edu/kissock/http/Weather/default.htm\n",
    "\n",
    "I've added the `city_temperature.csv` file to the `data` folder in the course repository."
   ]
  },
  {
   "cell_type": "code",
   "execution_count": 1,
   "id": "769b8b1c",
   "metadata": {},
   "outputs": [],
   "source": [
    "# load in the packages you will need for your analysis\n",
    "\n",
    "import pandas as pd  # pandas is a package for data analysis and manipulation\n",
    "import seaborn as sn  # seaborn is a data visualization package"
   ]
  },
  {
   "cell_type": "code",
   "execution_count": 8,
   "id": "4395c157",
   "metadata": {},
   "outputs": [
    {
     "name": "stderr",
     "output_type": "stream",
     "text": [
      "/Users/sclayton/opt/anaconda3/lib/python3.9/site-packages/IPython/core/interactiveshell.py:3444: DtypeWarning: Columns (2) have mixed types.Specify dtype option on import or set low_memory=False.\n",
      "  exec(code_obj, self.user_global_ns, self.user_ns)\n"
     ]
    }
   ],
   "source": [
    "# load in the csv file with cities temperatures\n",
    "\n",
    "# set the path to the correct directory for your particular computer\n",
    "infile = '../data/city_temperature.csv'\n",
    "\n",
    "# read in the .csv file with the column separator explicitly defined\n",
    "data = pd.read_csv(infile, sep = ',')"
   ]
  },
  {
   "cell_type": "code",
   "execution_count": null,
   "id": "44947b8f",
   "metadata": {},
   "outputs": [],
   "source": [
    "# convert the temperature data from F to C\n",
    "# assign to a new column in the dataframe called 'AvgTemperatureC'\n",
    "data['AvgTemperatureC'] = (data.AvgTemperature - 32) * 5/9"
   ]
  },
  {
   "cell_type": "code",
   "execution_count": 9,
   "id": "290169a0",
   "metadata": {},
   "outputs": [
    {
     "name": "stdout",
     "output_type": "stream",
     "text": [
      "<class 'pandas.core.frame.DataFrame'>\n",
      "RangeIndex: 2906327 entries, 0 to 2906326\n",
      "Data columns (total 8 columns):\n",
      " #   Column          Dtype  \n",
      "---  ------          -----  \n",
      " 0   Region          object \n",
      " 1   Country         object \n",
      " 2   State           object \n",
      " 3   City            object \n",
      " 4   Month           int64  \n",
      " 5   Day             int64  \n",
      " 6   Year            int64  \n",
      " 7   AvgTemperature  float64\n",
      "dtypes: float64(1), int64(3), object(4)\n",
      "memory usage: 177.4+ MB\n"
     ]
    }
   ],
   "source": [
    "# print the information about the data in the dataframe\n",
    "\n",
    "data.info()"
   ]
  },
  {
   "cell_type": "code",
   "execution_count": 10,
   "id": "589980da",
   "metadata": {},
   "outputs": [
    {
     "data": {
      "text/plain": [
       "(2906327, 8)"
      ]
     },
     "execution_count": 10,
     "metadata": {},
     "output_type": "execute_result"
    }
   ],
   "source": [
    "# the shape of the data\n",
    "# nrows, ncols\n",
    "\n",
    "data.shape"
   ]
  },
  {
   "cell_type": "code",
   "execution_count": 11,
   "id": "b2f0ed53",
   "metadata": {},
   "outputs": [
    {
     "data": {
      "text/plain": [
       "23250616"
      ]
     },
     "execution_count": 11,
     "metadata": {},
     "output_type": "execute_result"
    }
   ],
   "source": [
    "# total number of datapoints in the dataframe\n",
    "# ncol * nrows\n",
    "\n",
    "data.size"
   ]
  },
  {
   "cell_type": "code",
   "execution_count": 12,
   "id": "10b65111",
   "metadata": {},
   "outputs": [
    {
     "data": {
      "text/plain": [
       "Index(['Region', 'Country', 'State', 'City', 'Month', 'Day', 'Year',\n",
       "       'AvgTemperature'],\n",
       "      dtype='object')"
      ]
     },
     "execution_count": 12,
     "metadata": {},
     "output_type": "execute_result"
    }
   ],
   "source": [
    "# gives a list of the column names in the dataframe\n",
    "\n",
    "data.columns"
   ]
  },
  {
   "cell_type": "code",
   "execution_count": 13,
   "id": "af8dda4a",
   "metadata": {},
   "outputs": [
    {
     "data": {
      "text/html": [
       "<div>\n",
       "<style scoped>\n",
       "    .dataframe tbody tr th:only-of-type {\n",
       "        vertical-align: middle;\n",
       "    }\n",
       "\n",
       "    .dataframe tbody tr th {\n",
       "        vertical-align: top;\n",
       "    }\n",
       "\n",
       "    .dataframe thead th {\n",
       "        text-align: right;\n",
       "    }\n",
       "</style>\n",
       "<table border=\"1\" class=\"dataframe\">\n",
       "  <thead>\n",
       "    <tr style=\"text-align: right;\">\n",
       "      <th></th>\n",
       "      <th>Month</th>\n",
       "      <th>Day</th>\n",
       "      <th>Year</th>\n",
       "      <th>AvgTemperature</th>\n",
       "    </tr>\n",
       "  </thead>\n",
       "  <tbody>\n",
       "    <tr>\n",
       "      <th>count</th>\n",
       "      <td>2.906327e+06</td>\n",
       "      <td>2.906327e+06</td>\n",
       "      <td>2.906327e+06</td>\n",
       "      <td>2.906327e+06</td>\n",
       "    </tr>\n",
       "    <tr>\n",
       "      <th>mean</th>\n",
       "      <td>6.469163e+00</td>\n",
       "      <td>1.571682e+01</td>\n",
       "      <td>2.006624e+03</td>\n",
       "      <td>5.600492e+01</td>\n",
       "    </tr>\n",
       "    <tr>\n",
       "      <th>std</th>\n",
       "      <td>3.456489e+00</td>\n",
       "      <td>8.800534e+00</td>\n",
       "      <td>2.338226e+01</td>\n",
       "      <td>3.212359e+01</td>\n",
       "    </tr>\n",
       "    <tr>\n",
       "      <th>min</th>\n",
       "      <td>1.000000e+00</td>\n",
       "      <td>0.000000e+00</td>\n",
       "      <td>2.000000e+02</td>\n",
       "      <td>-9.900000e+01</td>\n",
       "    </tr>\n",
       "    <tr>\n",
       "      <th>25%</th>\n",
       "      <td>3.000000e+00</td>\n",
       "      <td>8.000000e+00</td>\n",
       "      <td>2.001000e+03</td>\n",
       "      <td>4.580000e+01</td>\n",
       "    </tr>\n",
       "    <tr>\n",
       "      <th>50%</th>\n",
       "      <td>6.000000e+00</td>\n",
       "      <td>1.600000e+01</td>\n",
       "      <td>2.007000e+03</td>\n",
       "      <td>6.250000e+01</td>\n",
       "    </tr>\n",
       "    <tr>\n",
       "      <th>75%</th>\n",
       "      <td>9.000000e+00</td>\n",
       "      <td>2.300000e+01</td>\n",
       "      <td>2.013000e+03</td>\n",
       "      <td>7.550000e+01</td>\n",
       "    </tr>\n",
       "    <tr>\n",
       "      <th>max</th>\n",
       "      <td>1.200000e+01</td>\n",
       "      <td>3.100000e+01</td>\n",
       "      <td>2.020000e+03</td>\n",
       "      <td>1.100000e+02</td>\n",
       "    </tr>\n",
       "  </tbody>\n",
       "</table>\n",
       "</div>"
      ],
      "text/plain": [
       "              Month           Day          Year  AvgTemperature\n",
       "count  2.906327e+06  2.906327e+06  2.906327e+06    2.906327e+06\n",
       "mean   6.469163e+00  1.571682e+01  2.006624e+03    5.600492e+01\n",
       "std    3.456489e+00  8.800534e+00  2.338226e+01    3.212359e+01\n",
       "min    1.000000e+00  0.000000e+00  2.000000e+02   -9.900000e+01\n",
       "25%    3.000000e+00  8.000000e+00  2.001000e+03    4.580000e+01\n",
       "50%    6.000000e+00  1.600000e+01  2.007000e+03    6.250000e+01\n",
       "75%    9.000000e+00  2.300000e+01  2.013000e+03    7.550000e+01\n",
       "max    1.200000e+01  3.100000e+01  2.020000e+03    1.100000e+02"
      ]
     },
     "execution_count": 13,
     "metadata": {},
     "output_type": "execute_result"
    }
   ],
   "source": [
    "# descriptive statistics for the numeric data in the dataframe\n",
    "\n",
    "data.describe()"
   ]
  },
  {
   "cell_type": "code",
   "execution_count": 14,
   "id": "71d1eee1",
   "metadata": {},
   "outputs": [
    {
     "data": {
      "text/html": [
       "<div>\n",
       "<style scoped>\n",
       "    .dataframe tbody tr th:only-of-type {\n",
       "        vertical-align: middle;\n",
       "    }\n",
       "\n",
       "    .dataframe tbody tr th {\n",
       "        vertical-align: top;\n",
       "    }\n",
       "\n",
       "    .dataframe thead th {\n",
       "        text-align: right;\n",
       "    }\n",
       "</style>\n",
       "<table border=\"1\" class=\"dataframe\">\n",
       "  <thead>\n",
       "    <tr style=\"text-align: right;\">\n",
       "      <th></th>\n",
       "      <th>Month</th>\n",
       "      <th>Day</th>\n",
       "      <th>Year</th>\n",
       "      <th>AvgTemperature</th>\n",
       "    </tr>\n",
       "  </thead>\n",
       "  <tbody>\n",
       "    <tr>\n",
       "      <th>Month</th>\n",
       "      <td>1.000000</td>\n",
       "      <td>0.011209</td>\n",
       "      <td>-0.026898</td>\n",
       "      <td>0.075037</td>\n",
       "    </tr>\n",
       "    <tr>\n",
       "      <th>Day</th>\n",
       "      <td>0.011209</td>\n",
       "      <td>1.000000</td>\n",
       "      <td>-0.002213</td>\n",
       "      <td>0.000100</td>\n",
       "    </tr>\n",
       "    <tr>\n",
       "      <th>Year</th>\n",
       "      <td>-0.026898</td>\n",
       "      <td>-0.002213</td>\n",
       "      <td>1.000000</td>\n",
       "      <td>0.087245</td>\n",
       "    </tr>\n",
       "    <tr>\n",
       "      <th>AvgTemperature</th>\n",
       "      <td>0.075037</td>\n",
       "      <td>0.000100</td>\n",
       "      <td>0.087245</td>\n",
       "      <td>1.000000</td>\n",
       "    </tr>\n",
       "  </tbody>\n",
       "</table>\n",
       "</div>"
      ],
      "text/plain": [
       "                   Month       Day      Year  AvgTemperature\n",
       "Month           1.000000  0.011209 -0.026898        0.075037\n",
       "Day             0.011209  1.000000 -0.002213        0.000100\n",
       "Year           -0.026898 -0.002213  1.000000        0.087245\n",
       "AvgTemperature  0.075037  0.000100  0.087245        1.000000"
      ]
     },
     "execution_count": 14,
     "metadata": {},
     "output_type": "execute_result"
    }
   ],
   "source": [
    "# correlations between the different numeric data columns in the dataframe\n",
    "\n",
    "data.corr()"
   ]
  },
  {
   "cell_type": "code",
   "execution_count": 15,
   "id": "2c7434d2",
   "metadata": {},
   "outputs": [],
   "source": [
    "# get a list of the unique values found in the 'City' column of the dataframe\n",
    "data['City'].unique()\n",
    "\n",
    "# assign the list of unique values of 'City' to a new variable called 'cities'\n",
    "cities = data['City'].unique()"
   ]
  },
  {
   "cell_type": "code",
   "execution_count": 16,
   "id": "6bc0c133",
   "metadata": {},
   "outputs": [
    {
     "name": "stdout",
     "output_type": "stream",
     "text": [
      "['Bucharest' 'Moscow' 'Yerevan' 'Pristina' 'Bratislava' 'Barcelona'\n",
      " 'Bilbao' 'Madrid' 'Stockholm' 'Bern' 'Geneva' 'Zurich' 'Kiev']\n"
     ]
    }
   ],
   "source": [
    "print(cities[99:112])"
   ]
  },
  {
   "cell_type": "code",
   "execution_count": 25,
   "id": "de17aa13",
   "metadata": {},
   "outputs": [
    {
     "data": {
      "text/plain": [
       "Country\n",
       "Albania                                             [Tirana]\n",
       "Algeria                                            [Algiers]\n",
       "Argentina                                     [Buenos Aires]\n",
       "Australia     [Brisbane, Canberra, Melbourne, Perth, Sydney]\n",
       "Austria                                             [Vienna]\n",
       "                                   ...                      \n",
       "Uzbekistan                                        [Tashkent]\n",
       "Venezuela                                          [Caracas]\n",
       "Vietnam                                              [Hanoi]\n",
       "Yugoslavia                                        [Belgrade]\n",
       "Zambia                                              [Lusaka]\n",
       "Name: City, Length: 125, dtype: object"
      ]
     },
     "execution_count": 25,
     "metadata": {},
     "output_type": "execute_result"
    }
   ],
   "source": [
    "# Group the data by a particular column\n",
    "# In this case, the data is grouped by country, and I am only interested in the 'City' column\n",
    "\n",
    "data.groupby('Country')['City'].unique()"
   ]
  },
  {
   "cell_type": "code",
   "execution_count": null,
   "id": "d6ed3b8b",
   "metadata": {},
   "outputs": [],
   "source": []
  }
 ],
 "metadata": {
  "kernelspec": {
   "display_name": "Python 3 (ipykernel)",
   "language": "python",
   "name": "python3"
  },
  "language_info": {
   "codemirror_mode": {
    "name": "ipython",
    "version": 3
   },
   "file_extension": ".py",
   "mimetype": "text/x-python",
   "name": "python",
   "nbconvert_exporter": "python",
   "pygments_lexer": "ipython3",
   "version": "3.9.7"
  }
 },
 "nbformat": 4,
 "nbformat_minor": 5
}
