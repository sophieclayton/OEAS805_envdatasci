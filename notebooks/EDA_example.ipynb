{
 "cells": [
  {
   "cell_type": "markdown",
   "id": "ccfc2349",
   "metadata": {},
   "source": [
    "# Exploratory Data Analysis (EDA) example\n",
    "\n",
    "This notebook will run through some of the basic analyses that you would typically do during EDA to get to know your data better. In this example, we will use data on the daily temperature in major global cities that can be downloaded from here: \n",
    "https://www.kaggle.com/datasets/sudalairajkumar/daily-temperature-of-major-cities\n",
    "\n",
    "The data were originally sourced from the National Climatic Data Center, compiled by the University of Dayton. More info and data descriptions and documentation can be found here:\n",
    "https://academic.udayton.edu/kissock/http/Weather/default.htm\n",
    "\n",
    "I've added the `city_temperature.csv` file to the `data` folder in the course repository."
   ]
  },
  {
   "cell_type": "code",
   "execution_count": 1,
   "id": "769b8b1c",
   "metadata": {},
   "outputs": [
    {
     "ename": "ModuleNotFoundError",
     "evalue": "No module named 'seaborn'",
     "output_type": "error",
     "traceback": [
      "\u001b[0;31m---------------------------------------------------------------------------\u001b[0m",
      "\u001b[0;31mModuleNotFoundError\u001b[0m                       Traceback (most recent call last)",
      "Input \u001b[0;32mIn [1]\u001b[0m, in \u001b[0;36m<cell line: 6>\u001b[0;34m()\u001b[0m\n\u001b[1;32m      3\u001b[0m get_ipython()\u001b[38;5;241m.\u001b[39mrun_line_magic(\u001b[38;5;124m'\u001b[39m\u001b[38;5;124mmatplotlib\u001b[39m\u001b[38;5;124m'\u001b[39m, \u001b[38;5;124m'\u001b[39m\u001b[38;5;124minline\u001b[39m\u001b[38;5;124m'\u001b[39m)\n\u001b[1;32m      5\u001b[0m \u001b[38;5;28;01mimport\u001b[39;00m \u001b[38;5;21;01mpandas\u001b[39;00m \u001b[38;5;28;01mas\u001b[39;00m \u001b[38;5;21;01mpd\u001b[39;00m  \u001b[38;5;66;03m# pandas is a package for data analysis and manipulation\u001b[39;00m\n\u001b[0;32m----> 6\u001b[0m \u001b[38;5;28;01mimport\u001b[39;00m \u001b[38;5;21;01mseaborn\u001b[39;00m \u001b[38;5;28;01mas\u001b[39;00m \u001b[38;5;21;01msn\u001b[39;00m\n",
      "\u001b[0;31mModuleNotFoundError\u001b[0m: No module named 'seaborn'"
     ]
    }
   ],
   "source": [
    "# load in the packages you will need for your analysis\n",
    "\n",
    "import pandas as pd  # pandas is a package for data analysis and manipulation\n",
    "import seaborn as sn  # seaborn is a data visualization package"
   ]
  },
  {
   "cell_type": "code",
   "execution_count": 14,
   "id": "9c0e37e8",
   "metadata": {},
   "outputs": [
    {
     "name": "stderr",
     "output_type": "stream",
     "text": [
      "/Users/sclayton/opt/anaconda3/envs/soph/lib/python3.9/site-packages/IPython/core/interactiveshell.py:3397: DtypeWarning: Columns (2) have mixed types.Specify dtype option on import or set low_memory=False.\n",
      "  exec(code_obj, self.user_global_ns, self.user_ns)\n"
     ]
    },
    {
     "name": "stdout",
     "output_type": "stream",
     "text": [
      "<class 'pandas.core.frame.DataFrame'>\n",
      "RangeIndex: 2906327 entries, 0 to 2906326\n",
      "Data columns (total 9 columns):\n",
      " #   Column           Dtype  \n",
      "---  ------           -----  \n",
      " 0   Region           object \n",
      " 1   Country          object \n",
      " 2   State            object \n",
      " 3   City             object \n",
      " 4   Month            int64  \n",
      " 5   Day              int64  \n",
      " 6   Year             int64  \n",
      " 7   AvgTemperature   float64\n",
      " 8   AvgTemperatureC  float64\n",
      "dtypes: float64(2), int64(3), object(4)\n",
      "memory usage: 199.6+ MB\n"
     ]
    }
   ],
   "source": [
    "# load in the data using pandas\n",
    "\n",
    "infile = '../data/city_temperature.csv'\n",
    "data = pd.read_csv(infile, sep = ',')\n",
    "\n",
    "# convert from F to C\n",
    "data['AvgTemperatureC'] = (data.AvgTemperature - 32) * 5/9\n",
    "\n",
    "data.info()"
   ]
  },
  {
   "cell_type": "code",
   "execution_count": 15,
   "id": "caf22893",
   "metadata": {},
   "outputs": [
    {
     "data": {
      "text/html": [
       "<div>\n",
       "<style scoped>\n",
       "    .dataframe tbody tr th:only-of-type {\n",
       "        vertical-align: middle;\n",
       "    }\n",
       "\n",
       "    .dataframe tbody tr th {\n",
       "        vertical-align: top;\n",
       "    }\n",
       "\n",
       "    .dataframe thead th {\n",
       "        text-align: right;\n",
       "    }\n",
       "</style>\n",
       "<table border=\"1\" class=\"dataframe\">\n",
       "  <thead>\n",
       "    <tr style=\"text-align: right;\">\n",
       "      <th></th>\n",
       "      <th>Month</th>\n",
       "      <th>Day</th>\n",
       "      <th>Year</th>\n",
       "      <th>AvgTemperature</th>\n",
       "      <th>AvgTemperatureC</th>\n",
       "    </tr>\n",
       "  </thead>\n",
       "  <tbody>\n",
       "    <tr>\n",
       "      <th>count</th>\n",
       "      <td>2.906327e+06</td>\n",
       "      <td>2.906327e+06</td>\n",
       "      <td>2.906327e+06</td>\n",
       "      <td>2.906327e+06</td>\n",
       "      <td>2.906327e+06</td>\n",
       "    </tr>\n",
       "    <tr>\n",
       "      <th>mean</th>\n",
       "      <td>6.469163e+00</td>\n",
       "      <td>1.571682e+01</td>\n",
       "      <td>2.006624e+03</td>\n",
       "      <td>5.600492e+01</td>\n",
       "      <td>1.333607e+01</td>\n",
       "    </tr>\n",
       "    <tr>\n",
       "      <th>std</th>\n",
       "      <td>3.456489e+00</td>\n",
       "      <td>8.800534e+00</td>\n",
       "      <td>2.338226e+01</td>\n",
       "      <td>3.212359e+01</td>\n",
       "      <td>1.784644e+01</td>\n",
       "    </tr>\n",
       "    <tr>\n",
       "      <th>min</th>\n",
       "      <td>1.000000e+00</td>\n",
       "      <td>0.000000e+00</td>\n",
       "      <td>2.000000e+02</td>\n",
       "      <td>-9.900000e+01</td>\n",
       "      <td>-7.277778e+01</td>\n",
       "    </tr>\n",
       "    <tr>\n",
       "      <th>25%</th>\n",
       "      <td>3.000000e+00</td>\n",
       "      <td>8.000000e+00</td>\n",
       "      <td>2.001000e+03</td>\n",
       "      <td>4.580000e+01</td>\n",
       "      <td>7.666667e+00</td>\n",
       "    </tr>\n",
       "    <tr>\n",
       "      <th>50%</th>\n",
       "      <td>6.000000e+00</td>\n",
       "      <td>1.600000e+01</td>\n",
       "      <td>2.007000e+03</td>\n",
       "      <td>6.250000e+01</td>\n",
       "      <td>1.694444e+01</td>\n",
       "    </tr>\n",
       "    <tr>\n",
       "      <th>75%</th>\n",
       "      <td>9.000000e+00</td>\n",
       "      <td>2.300000e+01</td>\n",
       "      <td>2.013000e+03</td>\n",
       "      <td>7.550000e+01</td>\n",
       "      <td>2.416667e+01</td>\n",
       "    </tr>\n",
       "    <tr>\n",
       "      <th>max</th>\n",
       "      <td>1.200000e+01</td>\n",
       "      <td>3.100000e+01</td>\n",
       "      <td>2.020000e+03</td>\n",
       "      <td>1.100000e+02</td>\n",
       "      <td>4.333333e+01</td>\n",
       "    </tr>\n",
       "  </tbody>\n",
       "</table>\n",
       "</div>"
      ],
      "text/plain": [
       "              Month           Day          Year  AvgTemperature  \\\n",
       "count  2.906327e+06  2.906327e+06  2.906327e+06    2.906327e+06   \n",
       "mean   6.469163e+00  1.571682e+01  2.006624e+03    5.600492e+01   \n",
       "std    3.456489e+00  8.800534e+00  2.338226e+01    3.212359e+01   \n",
       "min    1.000000e+00  0.000000e+00  2.000000e+02   -9.900000e+01   \n",
       "25%    3.000000e+00  8.000000e+00  2.001000e+03    4.580000e+01   \n",
       "50%    6.000000e+00  1.600000e+01  2.007000e+03    6.250000e+01   \n",
       "75%    9.000000e+00  2.300000e+01  2.013000e+03    7.550000e+01   \n",
       "max    1.200000e+01  3.100000e+01  2.020000e+03    1.100000e+02   \n",
       "\n",
       "       AvgTemperatureC  \n",
       "count     2.906327e+06  \n",
       "mean      1.333607e+01  \n",
       "std       1.784644e+01  \n",
       "min      -7.277778e+01  \n",
       "25%       7.666667e+00  \n",
       "50%       1.694444e+01  \n",
       "75%       2.416667e+01  \n",
       "max       4.333333e+01  "
      ]
     },
     "execution_count": 15,
     "metadata": {},
     "output_type": "execute_result"
    }
   ],
   "source": [
    "data.describe()"
   ]
  },
  {
   "cell_type": "code",
   "execution_count": 25,
   "id": "de17aa13",
   "metadata": {},
   "outputs": [
    {
     "data": {
      "text/plain": [
       "Country\n",
       "Albania                                             [Tirana]\n",
       "Algeria                                            [Algiers]\n",
       "Argentina                                     [Buenos Aires]\n",
       "Australia     [Brisbane, Canberra, Melbourne, Perth, Sydney]\n",
       "Austria                                             [Vienna]\n",
       "                                   ...                      \n",
       "Uzbekistan                                        [Tashkent]\n",
       "Venezuela                                          [Caracas]\n",
       "Vietnam                                              [Hanoi]\n",
       "Yugoslavia                                        [Belgrade]\n",
       "Zambia                                              [Lusaka]\n",
       "Name: City, Length: 125, dtype: object"
      ]
     },
     "execution_count": 25,
     "metadata": {},
     "output_type": "execute_result"
    }
   ],
   "source": [
    "data.groupby('Country')['City'].unique()"
   ]
  },
  {
   "cell_type": "code",
   "execution_count": null,
   "id": "d6ed3b8b",
   "metadata": {},
   "outputs": [],
   "source": []
  }
 ],
 "metadata": {
  "kernelspec": {
   "display_name": "Python 3 (ipykernel)",
   "language": "python",
   "name": "python3"
  },
  "language_info": {
   "codemirror_mode": {
    "name": "ipython",
    "version": 3
   },
   "file_extension": ".py",
   "mimetype": "text/x-python",
   "name": "python",
   "nbconvert_exporter": "python",
   "pygments_lexer": "ipython3",
   "version": "3.9.12"
  }
 },
 "nbformat": 4,
 "nbformat_minor": 5
}
