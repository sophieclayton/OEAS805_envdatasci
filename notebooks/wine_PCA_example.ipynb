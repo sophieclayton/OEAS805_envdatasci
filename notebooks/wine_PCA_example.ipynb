{
 "cells": [
  {
   "cell_type": "markdown",
   "id": "25b971d3",
   "metadata": {},
   "source": [
    "## Principal Component Analysis\n",
    "\n",
    "Principal Component Analysis (PCA) is a statistical technique used to reduce the dimensionality of high-dimensional data while retaining as much information as possible. The goal of PCA is to find a new set of variables, called principal components, that captures most of the variance in the original data.\n",
    "\n",
    "In other words, PCA takes a dataset with many variables and transforms it into a smaller set of variables that still contains the most important information about the data. This is accomplished by finding linear combinations of the original variables that explain the most variation in the data. These linear combinations are the principal components.\n",
    "\n",
    "The first principal component captures the most variation in the data, and each subsequent component captures as much variation as possible while being orthogonal (i.e., uncorrelated) to the previous components. The number of principal components to keep is typically determined by the amount of variance they explain, with a common rule of thumb being to keep enough components to explain at least 70% to 80% of the variance.\n"
   ]
  },
  {
   "cell_type": "code",
   "execution_count": 27,
   "id": "834c5544",
   "metadata": {},
   "outputs": [],
   "source": [
    "# import libraries\n",
    "\n",
    "import numpy as np\n",
    "import pandas as pd\n",
    "import matplotlib.pyplot as plt\n",
    "\n",
    "from sklearn.datasets import load_wine\n"
   ]
  },
  {
   "cell_type": "code",
   "execution_count": 3,
   "id": "644a03f9",
   "metadata": {},
   "outputs": [
    {
     "data": {
      "text/html": [
       "<div>\n",
       "<style scoped>\n",
       "    .dataframe tbody tr th:only-of-type {\n",
       "        vertical-align: middle;\n",
       "    }\n",
       "\n",
       "    .dataframe tbody tr th {\n",
       "        vertical-align: top;\n",
       "    }\n",
       "\n",
       "    .dataframe thead th {\n",
       "        text-align: right;\n",
       "    }\n",
       "</style>\n",
       "<table border=\"1\" class=\"dataframe\">\n",
       "  <thead>\n",
       "    <tr style=\"text-align: right;\">\n",
       "      <th></th>\n",
       "      <th>alcohol</th>\n",
       "      <th>malic_acid</th>\n",
       "      <th>ash</th>\n",
       "      <th>alcalinity_of_ash</th>\n",
       "      <th>magnesium</th>\n",
       "      <th>total_phenols</th>\n",
       "      <th>flavanoids</th>\n",
       "      <th>nonflavanoid_phenols</th>\n",
       "      <th>proanthocyanins</th>\n",
       "      <th>color_intensity</th>\n",
       "      <th>hue</th>\n",
       "      <th>od280/od315_of_diluted_wines</th>\n",
       "      <th>proline</th>\n",
       "    </tr>\n",
       "  </thead>\n",
       "  <tbody>\n",
       "    <tr>\n",
       "      <th>0</th>\n",
       "      <td>14.23</td>\n",
       "      <td>1.71</td>\n",
       "      <td>2.43</td>\n",
       "      <td>15.6</td>\n",
       "      <td>127.0</td>\n",
       "      <td>2.80</td>\n",
       "      <td>3.06</td>\n",
       "      <td>0.28</td>\n",
       "      <td>2.29</td>\n",
       "      <td>5.64</td>\n",
       "      <td>1.04</td>\n",
       "      <td>3.92</td>\n",
       "      <td>1065.0</td>\n",
       "    </tr>\n",
       "    <tr>\n",
       "      <th>1</th>\n",
       "      <td>13.20</td>\n",
       "      <td>1.78</td>\n",
       "      <td>2.14</td>\n",
       "      <td>11.2</td>\n",
       "      <td>100.0</td>\n",
       "      <td>2.65</td>\n",
       "      <td>2.76</td>\n",
       "      <td>0.26</td>\n",
       "      <td>1.28</td>\n",
       "      <td>4.38</td>\n",
       "      <td>1.05</td>\n",
       "      <td>3.40</td>\n",
       "      <td>1050.0</td>\n",
       "    </tr>\n",
       "    <tr>\n",
       "      <th>2</th>\n",
       "      <td>13.16</td>\n",
       "      <td>2.36</td>\n",
       "      <td>2.67</td>\n",
       "      <td>18.6</td>\n",
       "      <td>101.0</td>\n",
       "      <td>2.80</td>\n",
       "      <td>3.24</td>\n",
       "      <td>0.30</td>\n",
       "      <td>2.81</td>\n",
       "      <td>5.68</td>\n",
       "      <td>1.03</td>\n",
       "      <td>3.17</td>\n",
       "      <td>1185.0</td>\n",
       "    </tr>\n",
       "    <tr>\n",
       "      <th>3</th>\n",
       "      <td>14.37</td>\n",
       "      <td>1.95</td>\n",
       "      <td>2.50</td>\n",
       "      <td>16.8</td>\n",
       "      <td>113.0</td>\n",
       "      <td>3.85</td>\n",
       "      <td>3.49</td>\n",
       "      <td>0.24</td>\n",
       "      <td>2.18</td>\n",
       "      <td>7.80</td>\n",
       "      <td>0.86</td>\n",
       "      <td>3.45</td>\n",
       "      <td>1480.0</td>\n",
       "    </tr>\n",
       "    <tr>\n",
       "      <th>4</th>\n",
       "      <td>13.24</td>\n",
       "      <td>2.59</td>\n",
       "      <td>2.87</td>\n",
       "      <td>21.0</td>\n",
       "      <td>118.0</td>\n",
       "      <td>2.80</td>\n",
       "      <td>2.69</td>\n",
       "      <td>0.39</td>\n",
       "      <td>1.82</td>\n",
       "      <td>4.32</td>\n",
       "      <td>1.04</td>\n",
       "      <td>2.93</td>\n",
       "      <td>735.0</td>\n",
       "    </tr>\n",
       "    <tr>\n",
       "      <th>...</th>\n",
       "      <td>...</td>\n",
       "      <td>...</td>\n",
       "      <td>...</td>\n",
       "      <td>...</td>\n",
       "      <td>...</td>\n",
       "      <td>...</td>\n",
       "      <td>...</td>\n",
       "      <td>...</td>\n",
       "      <td>...</td>\n",
       "      <td>...</td>\n",
       "      <td>...</td>\n",
       "      <td>...</td>\n",
       "      <td>...</td>\n",
       "    </tr>\n",
       "    <tr>\n",
       "      <th>173</th>\n",
       "      <td>13.71</td>\n",
       "      <td>5.65</td>\n",
       "      <td>2.45</td>\n",
       "      <td>20.5</td>\n",
       "      <td>95.0</td>\n",
       "      <td>1.68</td>\n",
       "      <td>0.61</td>\n",
       "      <td>0.52</td>\n",
       "      <td>1.06</td>\n",
       "      <td>7.70</td>\n",
       "      <td>0.64</td>\n",
       "      <td>1.74</td>\n",
       "      <td>740.0</td>\n",
       "    </tr>\n",
       "    <tr>\n",
       "      <th>174</th>\n",
       "      <td>13.40</td>\n",
       "      <td>3.91</td>\n",
       "      <td>2.48</td>\n",
       "      <td>23.0</td>\n",
       "      <td>102.0</td>\n",
       "      <td>1.80</td>\n",
       "      <td>0.75</td>\n",
       "      <td>0.43</td>\n",
       "      <td>1.41</td>\n",
       "      <td>7.30</td>\n",
       "      <td>0.70</td>\n",
       "      <td>1.56</td>\n",
       "      <td>750.0</td>\n",
       "    </tr>\n",
       "    <tr>\n",
       "      <th>175</th>\n",
       "      <td>13.27</td>\n",
       "      <td>4.28</td>\n",
       "      <td>2.26</td>\n",
       "      <td>20.0</td>\n",
       "      <td>120.0</td>\n",
       "      <td>1.59</td>\n",
       "      <td>0.69</td>\n",
       "      <td>0.43</td>\n",
       "      <td>1.35</td>\n",
       "      <td>10.20</td>\n",
       "      <td>0.59</td>\n",
       "      <td>1.56</td>\n",
       "      <td>835.0</td>\n",
       "    </tr>\n",
       "    <tr>\n",
       "      <th>176</th>\n",
       "      <td>13.17</td>\n",
       "      <td>2.59</td>\n",
       "      <td>2.37</td>\n",
       "      <td>20.0</td>\n",
       "      <td>120.0</td>\n",
       "      <td>1.65</td>\n",
       "      <td>0.68</td>\n",
       "      <td>0.53</td>\n",
       "      <td>1.46</td>\n",
       "      <td>9.30</td>\n",
       "      <td>0.60</td>\n",
       "      <td>1.62</td>\n",
       "      <td>840.0</td>\n",
       "    </tr>\n",
       "    <tr>\n",
       "      <th>177</th>\n",
       "      <td>14.13</td>\n",
       "      <td>4.10</td>\n",
       "      <td>2.74</td>\n",
       "      <td>24.5</td>\n",
       "      <td>96.0</td>\n",
       "      <td>2.05</td>\n",
       "      <td>0.76</td>\n",
       "      <td>0.56</td>\n",
       "      <td>1.35</td>\n",
       "      <td>9.20</td>\n",
       "      <td>0.61</td>\n",
       "      <td>1.60</td>\n",
       "      <td>560.0</td>\n",
       "    </tr>\n",
       "  </tbody>\n",
       "</table>\n",
       "<p>178 rows × 13 columns</p>\n",
       "</div>"
      ],
      "text/plain": [
       "     alcohol  malic_acid   ash  alcalinity_of_ash  magnesium  total_phenols  \\\n",
       "0      14.23        1.71  2.43               15.6      127.0           2.80   \n",
       "1      13.20        1.78  2.14               11.2      100.0           2.65   \n",
       "2      13.16        2.36  2.67               18.6      101.0           2.80   \n",
       "3      14.37        1.95  2.50               16.8      113.0           3.85   \n",
       "4      13.24        2.59  2.87               21.0      118.0           2.80   \n",
       "..       ...         ...   ...                ...        ...            ...   \n",
       "173    13.71        5.65  2.45               20.5       95.0           1.68   \n",
       "174    13.40        3.91  2.48               23.0      102.0           1.80   \n",
       "175    13.27        4.28  2.26               20.0      120.0           1.59   \n",
       "176    13.17        2.59  2.37               20.0      120.0           1.65   \n",
       "177    14.13        4.10  2.74               24.5       96.0           2.05   \n",
       "\n",
       "     flavanoids  nonflavanoid_phenols  proanthocyanins  color_intensity   hue  \\\n",
       "0          3.06                  0.28             2.29             5.64  1.04   \n",
       "1          2.76                  0.26             1.28             4.38  1.05   \n",
       "2          3.24                  0.30             2.81             5.68  1.03   \n",
       "3          3.49                  0.24             2.18             7.80  0.86   \n",
       "4          2.69                  0.39             1.82             4.32  1.04   \n",
       "..          ...                   ...              ...              ...   ...   \n",
       "173        0.61                  0.52             1.06             7.70  0.64   \n",
       "174        0.75                  0.43             1.41             7.30  0.70   \n",
       "175        0.69                  0.43             1.35            10.20  0.59   \n",
       "176        0.68                  0.53             1.46             9.30  0.60   \n",
       "177        0.76                  0.56             1.35             9.20  0.61   \n",
       "\n",
       "     od280/od315_of_diluted_wines  proline  \n",
       "0                            3.92   1065.0  \n",
       "1                            3.40   1050.0  \n",
       "2                            3.17   1185.0  \n",
       "3                            3.45   1480.0  \n",
       "4                            2.93    735.0  \n",
       "..                            ...      ...  \n",
       "173                          1.74    740.0  \n",
       "174                          1.56    750.0  \n",
       "175                          1.56    835.0  \n",
       "176                          1.62    840.0  \n",
       "177                          1.60    560.0  \n",
       "\n",
       "[178 rows x 13 columns]"
      ]
     },
     "execution_count": 3,
     "metadata": {},
     "output_type": "execute_result"
    }
   ],
   "source": [
    "# load in the wine data\n",
    "wine = load_wine()\n",
    "\n",
    "data = pd.DataFrame(wine.data, columns = wine.feature_names)\n",
    "data"
   ]
  },
  {
   "cell_type": "code",
   "execution_count": 35,
   "id": "b4045728",
   "metadata": {},
   "outputs": [
    {
     "name": "stdout",
     "output_type": "stream",
     "text": [
      "PCA(n_components=0.95)\n"
     ]
    }
   ],
   "source": [
    "from sklearn.preprocessing import StandardScaler\n",
    "scaler = StandardScaler()\n",
    "scaler.fit(data)\n",
    "data_scaled = scaler.transform(data)\n",
    "\n",
    "from sklearn.decomposition import PCA\n",
    "pca = PCA(n_components = 0.95)\n",
    "\n",
    "pca.fit(data_scaled)\n",
    "components = pca.fit_transform(data_scaled)\n",
    "\n",
    "print(pca)"
   ]
  },
  {
   "cell_type": "code",
   "execution_count": 36,
   "id": "798030e0",
   "metadata": {},
   "outputs": [
    {
     "data": {
      "image/png": "[encoded data removed]",
      "text/plain": [
       "<Figure size 640x480 with 1 Axes>"
      ]
     },
     "metadata": {},
     "output_type": "display_data"
    }
   ],
   "source": [
    "fig, ax = plt.subplots()\n",
    "xi = range(1, pca.n_components_+1)\n",
    "y = np.cumsum(pca.explained_variance_ratio_)\n",
    "\n",
    "plt.bar(xi, pca.explained_variance_ratio_, alpha=0.5, align='center',\n",
    "        label='Individual explained variance')\n",
    "plt.plot(xi, y , '-o', label='Cumulative explained variance',\n",
    "         color='red')\n",
    "\n",
    "plt.axhline(0.8, linestyle = '--')\n",
    "\n",
    "plt.ylabel('Explained variance ratio')\n",
    "plt.xlabel('Principal component index')\n",
    "plt.show()\n",
    "plt.show()"
   ]
  },
  {
   "cell_type": "code",
   "execution_count": 42,
   "id": "a958a803",
   "metadata": {},
   "outputs": [
    {
     "data": {
      "application/vnd.plotly.v1+json": {
       "config": {
        "plotlyServerURL": "https://plot.ly"
       },
       "data": [
        {
         "hovertemplate": "0=%{x}<br>1=%{y}<br>color=%{marker.color}<extra></extra>",
         "legendgroup": "",
         "marker": {
          "color": [
           0,
           0,
           0,
           0,
           0,
           0,
           0,
           0,
           0,
           0,
           0,
           0,
           0,
           0,
           0,
           0,
           0,
           0,
           0,
           0,
           0,
           0,
           0,
           0,
           0,
           0,
           0,
           0,
           0,
           0,
           0,
           0,
           0,
           0,
           0,
           0,
           0,
           0,
           0,
           0,
           0,
           0,
           0,
           0,
           0,
           0,
           0,
           0,
           0,
           0,
           0,
           0,
           0,
           0,
           0,
           0,
           0,
           0,
           0,
           1,
           1,
           1,
           1,
           1,
           1,
           1,
           1,
           1,
           1,
           1,
           1,
           1,
           1,
           1,
           1,
           1,
           1,
           1,
           1,
           1,
           1,
           1,
           1,
           1,
           1,
           1,
           1,
           1,
           1,
           1,
           1,
           1,
           1,
           1,
           1,
           1,
           1,
           1,
           1,
           1,
           1,
           1,
           1,
           1,
           1,
           1,
           1,
           1,
           1,
           1,
           1,
           1,
           1,
           1,
           1,
           1,
           1,
           1,
           1,
           1,
           1,
           1,
           1,
           1,
           1,
           1,
           1,
           1,
           1,
           1,
           2,
           2,
           2,
           2,
           2,
           2,
           2,
           2,
           2,
           2,
           2,
           2,
           2,
           2,
           2,
           2,
           2,
           2,
           2,
           2,
           2,
           2,
           2,
           2,
           2,
           2,
           2,
           2,
           2,
           2,
           2,
           2,
           2,
           2,
           2,
           2,
           2,
           2,
           2,
           2,
           2,
           2,
           2,
           2,
           2,
           2,
           2,
           2
          ],
          "coloraxis": "coloraxis",
          "symbol": "circle"
         },
         "mode": "markers",
         "name": "",
         "orientation": "v",
         "showlegend": false,
         "type": "scatter",
         "x": [
          3.3167508122147797,
          2.2094649169188503,
          2.5167401466103865,
          3.757065609773206,
          1.0089084937957171,
          3.050253922418081,
          2.4490896695962325,
          2.059436871437914,
          2.510874297398989,
          2.753628187633911,
          3.479736682731213,
          1.7547529012945888,
          2.113462340315096,
          3.458156819336724,
          4.312783906765564,
          2.3051882008279727,
          2.1719552737415135,
          1.8989711765627622,
          3.54198508194347,
          2.0845222047303147,
          3.124402535167203,
          1.0865700683322415,
          2.5352240799037173,
          1.6449883412544712,
          1.761575872269303,
          0.9900791016088593,
          1.7752776281133698,
          1.2354239643099056,
          2.188406334451965,
          2.2561089812837087,
          2.5002200257894285,
          2.6774110474440165,
          1.6285791164309202,
          1.9026908622381478,
          1.4103885265954073,
          1.9038262321944888,
          1.38486223037484,
          1.1222074104413111,
          1.502194500618193,
          2.5298010923718115,
          2.5880954258544056,
          0.6684819937541865,
          3.070806990412011,
          0.46220913751600784,
          2.101351930538018,
          1.1361661775610172,
          2.726600963640805,
          2.821339274192251,
          2.00985085091236,
          2.7074913042663953,
          3.214917474773826,
          2.858959826717296,
          3.505604355923226,
          2.224791380532174,
          2.1469878235638675,
          2.46932948379779,
          2.7415179142774537,
          2.173740920965309,
          3.139380151828998,
          -0.9285819689218581,
          -1.5424801378968838,
          -1.8362497634669428,
          0.030606834086678723,
          2.0502616075763207,
          -0.609680827177622,
          0.9002278387071455,
          2.2485071907983976,
          0.18338402668475634,
          -0.8128050273520736,
          1.975620498798556,
          -1.5722162196263016,
          1.6576818088332927,
          -0.7253723880353562,
          2.562227173170365,
          1.832567570049552,
          -0.8679929031954128,
          0.370014404294783,
          -1.4573770449061396,
          1.2629308497284988,
          0.3761503719342441,
          0.7620639041096018,
          1.0345779671651891,
          -0.49487675568032535,
          -2.538977084295123,
          0.8353201453943007,
          0.7879046149897115,
          -0.8068321559655375,
          -0.5580426248756792,
          -1.1151110419194454,
          -0.5557228299516993,
          -1.3492852824437302,
          -1.564482605719905,
          -1.9325556106314643,
          0.7466659419884534,
          0.9574553638036437,
          2.5438651841995554,
          -0.5439525887762282,
          1.031049750388151,
          2.2519094221481293,
          1.4102160153374648,
          0.7977197926930425,
          -0.5495317266494644,
          -0.16117373994854364,
          -0.6597949416843594,
          0.3923544081850841,
          -1.772499077960034,
          -0.3662673573520634,
          -1.6206725727874798,
          0.0825357834933299,
          1.578275070932387,
          1.4205692478240217,
          -0.2787027536488529,
          -1.3031449662482797,
          -0.45707186565262203,
          -0.49418584704437296,
          0.48207440977309757,
          -0.2528888776531983,
          -0.1072276377291218,
          -2.433012602550221,
          -0.5510895391746491,
          0.7396219285682251,
          1.3363217334183364,
          -1.177086996247771,
          -0.4623350080196785,
          0.978474079356653,
          -0.09680972631598327,
          0.03848714594902673,
          -1.5971585012074692,
          -0.47956491608312274,
          -1.792833473031144,
          -1.3271016561416047,
          -2.3845008347435335,
          -2.936940102146616,
          -2.1468111338160667,
          -2.3698694883330447,
          -3.063841568720358,
          -3.9157537837118945,
          -3.936463390715966,
          -3.0942761177622806,
          -2.374471628006925,
          -2.7788129476325176,
          -2.286561284738473,
          -2.985633487449469,
          -2.3751946982271113,
          -2.209865525595876,
          -2.625621004692725,
          -4.280638778751093,
          -3.582641372001109,
          -2.8070637200816635,
          -2.899659333023916,
          -2.3207369765492087,
          -2.549830947226141,
          -1.8125412848423006,
          -2.7601446419239553,
          -2.737150500667996,
          -3.6048688681834298,
          -2.889825996873512,
          -3.392156076835725,
          -1.0481818968536802,
          -1.6099122828479386,
          -3.1431309667439784,
          -2.2401568962695464,
          -2.847673776119523,
          -2.597497056648768,
          -2.9492993731348505,
          -3.530032266349316,
          -2.406110540478557,
          -2.9290847269674605,
          -2.1814127788126245,
          -2.3809277871356427,
          -3.2116172150412514,
          -3.677918720973823,
          -2.4655557980404543,
          -3.370524145442868,
          -2.6019558512247416,
          -2.6778394608645084,
          -2.3870170912797253,
          -3.2087581641980276
         ],
         "xaxis": "x",
         "y": [
          -1.4434626343180081,
          0.3333928870802979,
          -1.0311512962743208,
          -2.756371913710715,
          -0.869830821417204,
          -2.1224011146341937,
          -1.174850131649476,
          -1.6089630683635099,
          -0.9180709573337789,
          -0.789437673833608,
          -1.3023332371235967,
          -0.6119772287456334,
          -0.6757063391426202,
          -1.1306298761729405,
          -2.095975575341266,
          -1.6625517299890582,
          -2.327305336191421,
          -1.6313688786428384,
          -2.51834366930665,
          -1.0611379935838616,
          -0.7868971056508958,
          -0.24174355133283984,
          0.0918406207208799,
          0.516278930067235,
          0.31714893268438166,
          -0.9406673381906322,
          -0.6861751342850251,
          0.08980704136063865,
          -0.6895696206616246,
          -0.19146193688666646,
          -1.2408338348969437,
          -1.471873646103251,
          -0.052704450575323976,
          -1.6330604347699846,
          -0.6979343246113573,
          -0.1767109510954561,
          -0.6586398536611499,
          -0.11410976029688866,
          0.7694320064310078,
          -1.8030019760618303,
          -0.7796163041925079,
          -0.1699609406198766,
          -1.1559189566098853,
          -0.3307421321922753,
          0.07100892095406659,
          -1.7771073929776398,
          -1.1913346919571854,
          -0.6462585991417051,
          -1.2470294606787613,
          -1.751967407206339,
          -0.1669919949967927,
          -0.7452788039895896,
          -1.6127338560350137,
          -1.8751679995630268,
          -1.0167515377576613,
          -1.3290083106496229,
          -1.4365487835125161,
          -1.2121998406977963,
          -1.731579115992515,
          3.0734861631889285,
          1.3814435080942284,
          0.8299841230557186,
          1.2627861442114028,
          1.9250326046501027,
          1.9080588050851894,
          0.7639114736096101,
          1.8845924845501338,
          2.427146114703572,
          0.22051398690226892,
          1.4032832253096168,
          0.8849831369082224,
          0.9567121974591515,
          1.0636454007060963,
          -0.2601985506545939,
          1.2878781978605265,
          2.444101185580865,
          2.153906975156989,
          1.3833517690762611,
          0.7708495299701184,
          1.0270434033558244,
          3.375053809963538,
          1.4507097382440926,
          2.381243526767373,
          0.08744335730498293,
          1.4736705514008692,
          2.0266265224624793,
          2.233830390843914,
          2.372985428849458,
          1.802247191665455,
          2.6575400353922953,
          2.11800146978482,
          1.8522145217655537,
          1.5594954568986232,
          2.312931709220742,
          2.223528434667462,
          -0.16927402279973922,
          0.36892654587731866,
          2.565569348733525,
          1.4327413803542564,
          2.1661917693703865,
          2.3769488030818624,
          2.293128643245628,
          1.1644833215600177,
          2.6799611859896366,
          2.0987317087655386,
          1.7172884693761454,
          2.1693532978292844,
          1.355583388025959,
          2.306234587748327,
          1.4620342902048185,
          1.4182066376337519,
          1.9305680886704697,
          0.7631723136577931,
          2.2694156075896768,
          1.9390450494868348,
          3.8717838484072424,
          2.8214923747015943,
          1.9289220425669615,
          1.2571410404943935,
          2.222161550776623,
          1.4089566673657143,
          -0.2533369311683008,
          0.663966839801574,
          0.6182881794850429,
          1.4455704988958293,
          2.1099979931352277,
          1.2667621091578871,
          1.2081435741284894,
          1.938840660394051,
          1.1502881044421063,
          -0.17038923204902812,
          -0.37458260552469363,
          -0.26386183006837965,
          -0.36825495188646123,
          0.4596348092311659,
          -0.3534128354584041,
          -0.15458251944173296,
          -0.6596872334097819,
          -0.34884275927379677,
          -0.2919803515599937,
          -0.2868048728821742,
          -0.37250784468529985,
          -0.4892179083470123,
          -0.48233371724487817,
          -1.1600525041576444,
          -0.5631607642108353,
          -0.6496709640237065,
          -1.2727027497273018,
          -1.570533787041199,
          -2.041057007938465,
          -2.356366075556674,
          -2.0452830910195243,
          -1.52764594626875,
          -2.1389323476426134,
          -0.4098862708817914,
          -1.802384217583968,
          -1.9252186131303444,
          -1.3118763884735953,
          -3.515089691219732,
          -2.406638159574329,
          -0.7381610441757981,
          -1.1754652881188656,
          -0.5560439658826735,
          -0.6979655372009202,
          -1.5553089642839848,
          -0.8825267962042366,
          -2.592356175042399,
          -1.274446947904484,
          -2.0775373127345165,
          -2.5886674324185908,
          0.25124910442559145,
          -0.8477478441497643,
          -2.193798303654095,
          -2.2162891398611384,
          -1.7572293509792751,
          -2.760899131674547,
          -2.29734667971282,
          -2.7689195660475754
         ],
         "yaxis": "y"
        }
       ],
       "layout": {
        "annotations": [
         {
          "arrowhead": 2,
          "arrowsize": 2,
          "ax": 0,
          "axref": "x",
          "ay": 0,
          "ayref": "y",
          "showarrow": true,
          "x": 0.3139765491669664,
          "xanchor": "right",
          "y": -0.7664131309214397,
          "yanchor": "top"
         },
         {
          "ax": 0,
          "ay": 0,
          "text": "alcohol",
          "x": 0.3139765491669664,
          "xanchor": "center",
          "y": -0.7664131309214397,
          "yanchor": "bottom",
          "yshift": 5
         },
         {
          "arrowhead": 2,
          "arrowsize": 2,
          "ax": 0,
          "axref": "x",
          "ay": 0,
          "ayref": "y",
          "showarrow": true,
          "x": -0.5333851093271786,
          "xanchor": "right",
          "y": -0.3564343433350563,
          "yanchor": "top"
         },
         {
          "ax": 0,
          "ay": 0,
          "text": "malic_acid",
          "x": -0.5333851093271786,
          "xanchor": "center",
          "y": -0.3564343433350563,
          "yanchor": "bottom",
          "yshift": 5
         },
         {
          "arrowhead": 2,
          "arrowsize": 2,
          "ax": 0,
          "axref": "x",
          "ay": 0,
          "ayref": "y",
          "showarrow": true,
          "x": -0.0044619129223220895,
          "xanchor": "right",
          "y": -0.5008549862747822,
          "yanchor": "top"
         },
         {
          "ax": 0,
          "ay": 0,
          "text": "ash",
          "x": -0.0044619129223220895,
          "xanchor": "center",
          "y": -0.5008549862747822,
          "yanchor": "bottom",
          "yshift": 5
         },
         {
          "arrowhead": 2,
          "arrowsize": 2,
          "ax": 0,
          "axref": "x",
          "ay": 0,
          "ayref": "y",
          "showarrow": true,
          "x": -0.520621560485563,
          "xanchor": "right",
          "y": 0.01678212352127391,
          "yanchor": "top"
         },
         {
          "ax": 0,
          "ay": 0,
          "text": "alcalinity_of_ash",
          "x": -0.520621560485563,
          "xanchor": "center",
          "y": 0.01678212352127391,
          "yanchor": "bottom",
          "yshift": 5
         },
         {
          "arrowhead": 2,
          "arrowsize": 2,
          "ax": 0,
          "axref": "x",
          "ay": 0,
          "ayref": "y",
          "showarrow": true,
          "x": 0.30889183188328717,
          "xanchor": "right",
          "y": -0.4748117432653049,
          "yanchor": "top"
         },
         {
          "ax": 0,
          "ay": 0,
          "text": "magnesium",
          "x": 0.30889183188328717,
          "xanchor": "center",
          "y": -0.4748117432653049,
          "yanchor": "bottom",
          "yshift": 5
         },
         {
          "arrowhead": 2,
          "arrowsize": 2,
          "ax": 0,
          "axref": "x",
          "ay": 0,
          "ayref": "y",
          "showarrow": true,
          "x": 0.858551716902561,
          "xanchor": "right",
          "y": -0.10306415044463954,
          "yanchor": "top"
         },
         {
          "ax": 0,
          "ay": 0,
          "text": "total_phenols",
          "x": 0.858551716902561,
          "xanchor": "center",
          "y": -0.10306415044463954,
          "yanchor": "bottom",
          "yshift": 5
         },
         {
          "arrowhead": 2,
          "arrowsize": 2,
          "ax": 0,
          "axref": "x",
          "ay": 0,
          "ayref": "y",
          "showarrow": true,
          "x": 0.9200582503088057,
          "xanchor": "right",
          "y": 0.005324089466323053,
          "yanchor": "top"
         },
         {
          "ax": 0,
          "ay": 0,
          "text": "flavanoids",
          "x": 0.9200582503088057,
          "xanchor": "center",
          "y": 0.005324089466323053,
          "yanchor": "bottom",
          "yshift": 5
         },
         {
          "arrowhead": 2,
          "arrowsize": 2,
          "ax": 0,
          "axref": "x",
          "ay": 0,
          "ayref": "y",
          "showarrow": true,
          "x": -0.6494338399613668,
          "xanchor": "right",
          "y": -0.0456051008014687,
          "yanchor": "top"
         },
         {
          "ax": 0,
          "ay": 0,
          "text": "nonflavanoid_phenols",
          "x": -0.6494338399613668,
          "xanchor": "center",
          "y": -0.0456051008014687,
          "yanchor": "bottom",
          "yshift": 5
         },
         {
          "arrowhead": 2,
          "arrowsize": 2,
          "ax": 0,
          "axref": "x",
          "ay": 0,
          "ayref": "y",
          "showarrow": true,
          "x": 0.6818396825482554,
          "xanchor": "right",
          "y": -0.06227904400724169,
          "yanchor": "top"
         },
         {
          "ax": 0,
          "ay": 0,
          "text": "proanthocyanins",
          "x": 0.6818396825482554,
          "xanchor": "center",
          "y": -0.06227904400724169,
          "yanchor": "bottom",
          "yshift": 5
         },
         {
          "arrowhead": 2,
          "arrowsize": 2,
          "ax": 0,
          "axref": "x",
          "ay": 0,
          "ayref": "y",
          "showarrow": true,
          "x": -0.1927782422267235,
          "xanchor": "right",
          "y": -0.8398518401093344,
          "yanchor": "top"
         },
         {
          "ax": 0,
          "ay": 0,
          "text": "color_intensity",
          "x": -0.1927782422267235,
          "xanchor": "center",
          "y": -0.8398518401093344,
          "yanchor": "bottom",
          "yshift": 5
         },
         {
          "arrowhead": 2,
          "arrowsize": 2,
          "ax": 0,
          "axref": "x",
          "ay": 0,
          "ayref": "y",
          "showarrow": true,
          "x": 0.6454777594014256,
          "xanchor": "right",
          "y": 0.4424869204902049,
          "yanchor": "top"
         },
         {
          "ax": 0,
          "ay": 0,
          "text": "hue",
          "x": 0.6454777594014256,
          "xanchor": "center",
          "y": 0.4424869204902049,
          "yanchor": "bottom",
          "yshift": 5
         },
         {
          "arrowhead": 2,
          "arrowsize": 2,
          "ax": 0,
          "axref": "x",
          "ay": 0,
          "ayref": "y",
          "showarrow": true,
          "x": 0.8183207946002033,
          "xanchor": "right",
          "y": 0.2606670913075972,
          "yanchor": "top"
         },
         {
          "ax": 0,
          "ay": 0,
          "text": "od280/od315_of_diluted_wines",
          "x": 0.8183207946002033,
          "xanchor": "center",
          "y": 0.2606670913075972,
          "yanchor": "bottom",
          "yshift": 5
         },
         {
          "arrowhead": 2,
          "arrowsize": 2,
          "ax": 0,
          "axref": "x",
          "ay": 0,
          "ayref": "y",
          "showarrow": true,
          "x": 0.6238055277217084,
          "xanchor": "right",
          "y": -0.5782392779732446,
          "yanchor": "top"
         },
         {
          "ax": 0,
          "ay": 0,
          "text": "proline",
          "x": 0.6238055277217084,
          "xanchor": "center",
          "y": -0.5782392779732446,
          "yanchor": "bottom",
          "yshift": 5
         }
        ],
        "coloraxis": {
         "colorbar": {
          "title": {
           "text": "color"
          }
         },
         "colorscale": [
          [
           0,
           "#0d0887"
          ],
          [
           0.1111111111111111,
           "#46039f"
          ],
          [
           0.2222222222222222,
           "#7201a8"
          ],
          [
           0.3333333333333333,
           "#9c179e"
          ],
          [
           0.4444444444444444,
           "#bd3786"
          ],
          [
           0.5555555555555556,
           "#d8576b"
          ],
          [
           0.6666666666666666,
           "#ed7953"
          ],
          [
           0.7777777777777778,
           "#fb9f3a"
          ],
          [
           0.8888888888888888,
           "#fdca26"
          ],
          [
           1,
           "#f0f921"
          ]
         ]
        },
        "legend": {
         "tracegroupgap": 0
        },
        "margin": {
         "t": 60
        },
        "template": {
         "data": {
          "bar": [
           {
            "error_x": {
             "color": "#2a3f5f"
            },
            "error_y": {
             "color": "#2a3f5f"
            },
            "marker": {
             "line": {
              "color": "#E5ECF6",
              "width": 0.5
             },
             "pattern": {
              "fillmode": "overlay",
              "size": 10,
              "solidity": 0.2
             }
            },
            "type": "bar"
           }
          ],
          "barpolar": [
           {
            "marker": {
             "line": {
              "color": "#E5ECF6",
              "width": 0.5
             },
             "pattern": {
              "fillmode": "overlay",
              "size": 10,
              "solidity": 0.2
             }
            },
            "type": "barpolar"
           }
          ],
          "carpet": [
           {
            "aaxis": {
             "endlinecolor": "#2a3f5f",
             "gridcolor": "white",
             "linecolor": "white",
             "minorgridcolor": "white",
             "startlinecolor": "#2a3f5f"
            },
            "baxis": {
             "endlinecolor": "#2a3f5f",
             "gridcolor": "white",
             "linecolor": "white",
             "minorgridcolor": "white",
             "startlinecolor": "#2a3f5f"
            },
            "type": "carpet"
           }
          ],
          "choropleth": [
           {
            "colorbar": {
             "outlinewidth": 0,
             "ticks": ""
            },
            "type": "choropleth"
           }
          ],
          "contour": [
           {
            "colorbar": {
             "outlinewidth": 0,
             "ticks": ""
            },
            "colorscale": [
             [
              0,
              "#0d0887"
             ],
             [
              0.1111111111111111,
              "#46039f"
             ],
             [
              0.2222222222222222,
              "#7201a8"
             ],
             [
              0.3333333333333333,
              "#9c179e"
             ],
             [
              0.4444444444444444,
              "#bd3786"
             ],
             [
              0.5555555555555556,
              "#d8576b"
             ],
             [
              0.6666666666666666,
              "#ed7953"
             ],
             [
              0.7777777777777778,
              "#fb9f3a"
             ],
             [
              0.8888888888888888,
              "#fdca26"
             ],
             [
              1,
              "#f0f921"
             ]
            ],
            "type": "contour"
           }
          ],
          "contourcarpet": [
           {
            "colorbar": {
             "outlinewidth": 0,
             "ticks": ""
            },
            "type": "contourcarpet"
           }
          ],
          "heatmap": [
           {
            "colorbar": {
             "outlinewidth": 0,
             "ticks": ""
            },
            "colorscale": [
             [
              0,
              "#0d0887"
             ],
             [
              0.1111111111111111,
              "#46039f"
             ],
             [
              0.2222222222222222,
              "#7201a8"
             ],
             [
              0.3333333333333333,
              "#9c179e"
             ],
             [
              0.4444444444444444,
              "#bd3786"
             ],
             [
              0.5555555555555556,
              "#d8576b"
             ],
             [
              0.6666666666666666,
              "#ed7953"
             ],
             [
              0.7777777777777778,
              "#fb9f3a"
             ],
             [
              0.8888888888888888,
              "#fdca26"
             ],
             [
              1,
              "#f0f921"
             ]
            ],
            "type": "heatmap"
           }
          ],
          "heatmapgl": [
           {
            "colorbar": {
             "outlinewidth": 0,
             "ticks": ""
            },
            "colorscale": [
             [
              0,
              "#0d0887"
             ],
             [
              0.1111111111111111,
              "#46039f"
             ],
             [
              0.2222222222222222,
              "#7201a8"
             ],
             [
              0.3333333333333333,
              "#9c179e"
             ],
             [
              0.4444444444444444,
              "#bd3786"
             ],
             [
              0.5555555555555556,
              "#d8576b"
             ],
             [
              0.6666666666666666,
              "#ed7953"
             ],
             [
              0.7777777777777778,
              "#fb9f3a"
             ],
             [
              0.8888888888888888,
              "#fdca26"
             ],
             [
              1,
              "#f0f921"
             ]
            ],
            "type": "heatmapgl"
           }
          ],
          "histogram": [
           {
            "marker": {
             "pattern": {
              "fillmode": "overlay",
              "size": 10,
              "solidity": 0.2
             }
            },
            "type": "histogram"
           }
          ],
          "histogram2d": [
           {
            "colorbar": {
             "outlinewidth": 0,
             "ticks": ""
            },
            "colorscale": [
             [
              0,
              "#0d0887"
             ],
             [
              0.1111111111111111,
              "#46039f"
             ],
             [
              0.2222222222222222,
              "#7201a8"
             ],
             [
              0.3333333333333333,
              "#9c179e"
             ],
             [
              0.4444444444444444,
              "#bd3786"
             ],
             [
              0.5555555555555556,
              "#d8576b"
             ],
             [
              0.6666666666666666,
              "#ed7953"
             ],
             [
              0.7777777777777778,
              "#fb9f3a"
             ],
             [
              0.8888888888888888,
              "#fdca26"
             ],
             [
              1,
              "#f0f921"
             ]
            ],
            "type": "histogram2d"
           }
          ],
          "histogram2dcontour": [
           {
            "colorbar": {
             "outlinewidth": 0,
             "ticks": ""
            },
            "colorscale": [
             [
              0,
              "#0d0887"
             ],
             [
              0.1111111111111111,
              "#46039f"
             ],
             [
              0.2222222222222222,
              "#7201a8"
             ],
             [
              0.3333333333333333,
              "#9c179e"
             ],
             [
              0.4444444444444444,
              "#bd3786"
             ],
             [
              0.5555555555555556,
              "#d8576b"
             ],
             [
              0.6666666666666666,
              "#ed7953"
             ],
             [
              0.7777777777777778,
              "#fb9f3a"
             ],
             [
              0.8888888888888888,
              "#fdca26"
             ],
             [
              1,
              "#f0f921"
             ]
            ],
            "type": "histogram2dcontour"
           }
          ],
          "mesh3d": [
           {
            "colorbar": {
             "outlinewidth": 0,
             "ticks": ""
            },
            "type": "mesh3d"
           }
          ],
          "parcoords": [
           {
            "line": {
             "colorbar": {
              "outlinewidth": 0,
              "ticks": ""
             }
            },
            "type": "parcoords"
           }
          ],
          "pie": [
           {
            "automargin": true,
            "type": "pie"
           }
          ],
          "scatter": [
           {
            "fillpattern": {
             "fillmode": "overlay",
             "size": 10,
             "solidity": 0.2
            },
            "type": "scatter"
           }
          ],
          "scatter3d": [
           {
            "line": {
             "colorbar": {
              "outlinewidth": 0,
              "ticks": ""
             }
            },
            "marker": {
             "colorbar": {
              "outlinewidth": 0,
              "ticks": ""
             }
            },
            "type": "scatter3d"
           }
          ],
          "scattercarpet": [
           {
            "marker": {
             "colorbar": {
              "outlinewidth": 0,
              "ticks": ""
             }
            },
            "type": "scattercarpet"
           }
          ],
          "scattergeo": [
           {
            "marker": {
             "colorbar": {
              "outlinewidth": 0,
              "ticks": ""
             }
            },
            "type": "scattergeo"
           }
          ],
          "scattergl": [
           {
            "marker": {
             "colorbar": {
              "outlinewidth": 0,
              "ticks": ""
             }
            },
            "type": "scattergl"
           }
          ],
          "scattermapbox": [
           {
            "marker": {
             "colorbar": {
              "outlinewidth": 0,
              "ticks": ""
             }
            },
            "type": "scattermapbox"
           }
          ],
          "scatterpolar": [
           {
            "marker": {
             "colorbar": {
              "outlinewidth": 0,
              "ticks": ""
             }
            },
            "type": "scatterpolar"
           }
          ],
          "scatterpolargl": [
           {
            "marker": {
             "colorbar": {
              "outlinewidth": 0,
              "ticks": ""
             }
            },
            "type": "scatterpolargl"
           }
          ],
          "scatterternary": [
           {
            "marker": {
             "colorbar": {
              "outlinewidth": 0,
              "ticks": ""
             }
            },
            "type": "scatterternary"
           }
          ],
          "surface": [
           {
            "colorbar": {
             "outlinewidth": 0,
             "ticks": ""
            },
            "colorscale": [
             [
              0,
              "#0d0887"
             ],
             [
              0.1111111111111111,
              "#46039f"
             ],
             [
              0.2222222222222222,
              "#7201a8"
             ],
             [
              0.3333333333333333,
              "#9c179e"
             ],
             [
              0.4444444444444444,
              "#bd3786"
             ],
             [
              0.5555555555555556,
              "#d8576b"
             ],
             [
              0.6666666666666666,
              "#ed7953"
             ],
             [
              0.7777777777777778,
              "#fb9f3a"
             ],
             [
              0.8888888888888888,
              "#fdca26"
             ],
             [
              1,
              "#f0f921"
             ]
            ],
            "type": "surface"
           }
          ],
          "table": [
           {
            "cells": {
             "fill": {
              "color": "#EBF0F8"
             },
             "line": {
              "color": "white"
             }
            },
            "header": {
             "fill": {
              "color": "#C8D4E3"
             },
             "line": {
              "color": "white"
             }
            },
            "type": "table"
           }
          ]
         },
         "layout": {
          "annotationdefaults": {
           "arrowcolor": "#2a3f5f",
           "arrowhead": 0,
           "arrowwidth": 1
          },
          "autotypenumbers": "strict",
          "coloraxis": {
           "colorbar": {
            "outlinewidth": 0,
            "ticks": ""
           }
          },
          "colorscale": {
           "diverging": [
            [
             0,
             "#8e0152"
            ],
            [
             0.1,
             "#c51b7d"
            ],
            [
             0.2,
             "#de77ae"
            ],
            [
             0.3,
             "#f1b6da"
            ],
            [
             0.4,
             "#fde0ef"
            ],
            [
             0.5,
             "#f7f7f7"
            ],
            [
             0.6,
             "#e6f5d0"
            ],
            [
             0.7,
             "#b8e186"
            ],
            [
             0.8,
             "#7fbc41"
            ],
            [
             0.9,
             "#4d9221"
            ],
            [
             1,
             "#276419"
            ]
           ],
           "sequential": [
            [
             0,
             "#0d0887"
            ],
            [
             0.1111111111111111,
             "#46039f"
            ],
            [
             0.2222222222222222,
             "#7201a8"
            ],
            [
             0.3333333333333333,
             "#9c179e"
            ],
            [
             0.4444444444444444,
             "#bd3786"
            ],
            [
             0.5555555555555556,
             "#d8576b"
            ],
            [
             0.6666666666666666,
             "#ed7953"
            ],
            [
             0.7777777777777778,
             "#fb9f3a"
            ],
            [
             0.8888888888888888,
             "#fdca26"
            ],
            [
             1,
             "#f0f921"
            ]
           ],
           "sequentialminus": [
            [
             0,
             "#0d0887"
            ],
            [
             0.1111111111111111,
             "#46039f"
            ],
            [
             0.2222222222222222,
             "#7201a8"
            ],
            [
             0.3333333333333333,
             "#9c179e"
            ],
            [
             0.4444444444444444,
             "#bd3786"
            ],
            [
             0.5555555555555556,
             "#d8576b"
            ],
            [
             0.6666666666666666,
             "#ed7953"
            ],
            [
             0.7777777777777778,
             "#fb9f3a"
            ],
            [
             0.8888888888888888,
             "#fdca26"
            ],
            [
             1,
             "#f0f921"
            ]
           ]
          },
          "colorway": [
           "#636efa",
           "#EF553B",
           "#00cc96",
           "#ab63fa",
           "#FFA15A",
           "#19d3f3",
           "#FF6692",
           "#B6E880",
           "#FF97FF",
           "#FECB52"
          ],
          "font": {
           "color": "#2a3f5f"
          },
          "geo": {
           "bgcolor": "white",
           "lakecolor": "white",
           "landcolor": "#E5ECF6",
           "showlakes": true,
           "showland": true,
           "subunitcolor": "white"
          },
          "hoverlabel": {
           "align": "left"
          },
          "hovermode": "closest",
          "mapbox": {
           "style": "light"
          },
          "paper_bgcolor": "white",
          "plot_bgcolor": "#E5ECF6",
          "polar": {
           "angularaxis": {
            "gridcolor": "white",
            "linecolor": "white",
            "ticks": ""
           },
           "bgcolor": "#E5ECF6",
           "radialaxis": {
            "gridcolor": "white",
            "linecolor": "white",
            "ticks": ""
           }
          },
          "scene": {
           "xaxis": {
            "backgroundcolor": "#E5ECF6",
            "gridcolor": "white",
            "gridwidth": 2,
            "linecolor": "white",
            "showbackground": true,
            "ticks": "",
            "zerolinecolor": "white"
           },
           "yaxis": {
            "backgroundcolor": "#E5ECF6",
            "gridcolor": "white",
            "gridwidth": 2,
            "linecolor": "white",
            "showbackground": true,
            "ticks": "",
            "zerolinecolor": "white"
           },
           "zaxis": {
            "backgroundcolor": "#E5ECF6",
            "gridcolor": "white",
            "gridwidth": 2,
            "linecolor": "white",
            "showbackground": true,
            "ticks": "",
            "zerolinecolor": "white"
           }
          },
          "shapedefaults": {
           "line": {
            "color": "#2a3f5f"
           }
          },
          "ternary": {
           "aaxis": {
            "gridcolor": "white",
            "linecolor": "white",
            "ticks": ""
           },
           "baxis": {
            "gridcolor": "white",
            "linecolor": "white",
            "ticks": ""
           },
           "bgcolor": "#E5ECF6",
           "caxis": {
            "gridcolor": "white",
            "linecolor": "white",
            "ticks": ""
           }
          },
          "title": {
           "x": 0.05
          },
          "xaxis": {
           "automargin": true,
           "gridcolor": "white",
           "linecolor": "white",
           "ticks": "",
           "title": {
            "standoff": 15
           },
           "zerolinecolor": "white",
           "zerolinewidth": 2
          },
          "yaxis": {
           "automargin": true,
           "gridcolor": "white",
           "linecolor": "white",
           "ticks": "",
           "title": {
            "standoff": 15
           },
           "zerolinecolor": "white",
           "zerolinewidth": 2
          }
         }
        },
        "xaxis": {
         "anchor": "y",
         "domain": [
          0,
          1
         ],
         "title": {
          "text": "0"
         }
        },
        "yaxis": {
         "anchor": "x",
         "domain": [
          0,
          1
         ],
         "title": {
          "text": "1"
         }
        }
       }
      },
      "text/html": [
       "<div>                            <div id=\"e51837c3-24f7-4ddf-abde-279a38490e84\" class=\"plotly-graph-div\" style=\"height:525px; width:100%;\"></div>            <script type=\"text/javascript\">                require([\"plotly\"], function(Plotly) {                    window.PLOTLYENV=window.PLOTLYENV || {};                                    if (document.getElementById(\"e51837c3-24f7-4ddf-abde-279a38490e84\")) {                    Plotly.newPlot(                        \"e51837c3-24f7-4ddf-abde-279a38490e84\",                        [{\"hovertemplate\":\"0=%{x}<br>1=%{y}<br>color=%{marker.color}<extra></extra>\",\"legendgroup\":\"\",\"marker\":{\"color\":[0,0,0,0,0,0,0,0,0,0,0,0,0,0,0,0,0,0,0,0,0,0,0,0,0,0,0,0,0,0,0,0,0,0,0,0,0,0,0,0,0,0,0,0,0,0,0,0,0,0,0,0,0,0,0,0,0,0,0,1,1,1,1,1,1,1,1,1,1,1,1,1,1,1,1,1,1,1,1,1,1,1,1,1,1,1,1,1,1,1,1,1,1,1,1,1,1,1,1,1,1,1,1,1,1,1,1,1,1,1,1,1,1,1,1,1,1,1,1,1,1,1,1,1,1,1,1,1,1,1,2,2,2,2,2,2,2,2,2,2,2,2,2,2,2,2,2,2,2,2,2,2,2,2,2,2,2,2,2,2,2,2,2,2,2,2,2,2,2,2,2,2,2,2,2,2,2,2],\"coloraxis\":\"coloraxis\",\"symbol\":\"circle\"},\"mode\":\"markers\",\"name\":\"\",\"orientation\":\"v\",\"showlegend\":false,\"x\":[3.3167508122147797,2.2094649169188503,2.5167401466103865,3.757065609773206,1.0089084937957171,3.050253922418081,2.4490896695962325,2.059436871437914,2.510874297398989,2.753628187633911,3.479736682731213,1.7547529012945888,2.113462340315096,3.458156819336724,4.312783906765564,2.3051882008279727,2.1719552737415135,1.8989711765627622,3.54198508194347,2.0845222047303147,3.124402535167203,1.0865700683322415,2.5352240799037173,1.6449883412544712,1.761575872269303,0.9900791016088593,1.7752776281133698,1.2354239643099056,2.188406334451965,2.2561089812837087,2.5002200257894285,2.6774110474440165,1.6285791164309202,1.9026908622381478,1.4103885265954073,1.9038262321944888,1.38486223037484,1.1222074104413111,1.502194500618193,2.5298010923718115,2.5880954258544056,0.6684819937541865,3.070806990412011,0.46220913751600784,2.101351930538018,1.1361661775610172,2.726600963640805,2.821339274192251,2.00985085091236,2.7074913042663953,3.214917474773826,2.858959826717296,3.505604355923226,2.224791380532174,2.1469878235638675,2.46932948379779,2.7415179142774537,2.173740920965309,3.139380151828998,-0.9285819689218581,-1.5424801378968838,-1.8362497634669428,0.030606834086678723,2.0502616075763207,-0.609680827177622,0.9002278387071455,2.2485071907983976,0.18338402668475634,-0.8128050273520736,1.975620498798556,-1.5722162196263016,1.6576818088332927,-0.7253723880353562,2.562227173170365,1.832567570049552,-0.8679929031954128,0.370014404294783,-1.4573770449061396,1.2629308497284988,0.3761503719342441,0.7620639041096018,1.0345779671651891,-0.49487675568032535,-2.538977084295123,0.8353201453943007,0.7879046149897115,-0.8068321559655375,-0.5580426248756792,-1.1151110419194454,-0.5557228299516993,-1.3492852824437302,-1.564482605719905,-1.9325556106314643,0.7466659419884534,0.9574553638036437,2.5438651841995554,-0.5439525887762282,1.031049750388151,2.2519094221481293,1.4102160153374648,0.7977197926930425,-0.5495317266494644,-0.16117373994854364,-0.6597949416843594,0.3923544081850841,-1.772499077960034,-0.3662673573520634,-1.6206725727874798,0.0825357834933299,1.578275070932387,1.4205692478240217,-0.2787027536488529,-1.3031449662482797,-0.45707186565262203,-0.49418584704437296,0.48207440977309757,-0.2528888776531983,-0.1072276377291218,-2.433012602550221,-0.5510895391746491,0.7396219285682251,1.3363217334183364,-1.177086996247771,-0.4623350080196785,0.978474079356653,-0.09680972631598327,0.03848714594902673,-1.5971585012074692,-0.47956491608312274,-1.792833473031144,-1.3271016561416047,-2.3845008347435335,-2.936940102146616,-2.1468111338160667,-2.3698694883330447,-3.063841568720358,-3.9157537837118945,-3.936463390715966,-3.0942761177622806,-2.374471628006925,-2.7788129476325176,-2.286561284738473,-2.985633487449469,-2.3751946982271113,-2.209865525595876,-2.625621004692725,-4.280638778751093,-3.582641372001109,-2.8070637200816635,-2.899659333023916,-2.3207369765492087,-2.549830947226141,-1.8125412848423006,-2.7601446419239553,-2.737150500667996,-3.6048688681834298,-2.889825996873512,-3.392156076835725,-1.0481818968536802,-1.6099122828479386,-3.1431309667439784,-2.2401568962695464,-2.847673776119523,-2.597497056648768,-2.9492993731348505,-3.530032266349316,-2.406110540478557,-2.9290847269674605,-2.1814127788126245,-2.3809277871356427,-3.2116172150412514,-3.677918720973823,-2.4655557980404543,-3.370524145442868,-2.6019558512247416,-2.6778394608645084,-2.3870170912797253,-3.2087581641980276],\"xaxis\":\"x\",\"y\":[-1.4434626343180081,0.3333928870802979,-1.0311512962743208,-2.756371913710715,-0.869830821417204,-2.1224011146341937,-1.174850131649476,-1.6089630683635099,-0.9180709573337789,-0.789437673833608,-1.3023332371235967,-0.6119772287456334,-0.6757063391426202,-1.1306298761729405,-2.095975575341266,-1.6625517299890582,-2.327305336191421,-1.6313688786428384,-2.51834366930665,-1.0611379935838616,-0.7868971056508958,-0.24174355133283984,0.0918406207208799,0.516278930067235,0.31714893268438166,-0.9406673381906322,-0.6861751342850251,0.08980704136063865,-0.6895696206616246,-0.19146193688666646,-1.2408338348969437,-1.471873646103251,-0.052704450575323976,-1.6330604347699846,-0.6979343246113573,-0.1767109510954561,-0.6586398536611499,-0.11410976029688866,0.7694320064310078,-1.8030019760618303,-0.7796163041925079,-0.1699609406198766,-1.1559189566098853,-0.3307421321922753,0.07100892095406659,-1.7771073929776398,-1.1913346919571854,-0.6462585991417051,-1.2470294606787613,-1.751967407206339,-0.1669919949967927,-0.7452788039895896,-1.6127338560350137,-1.8751679995630268,-1.0167515377576613,-1.3290083106496229,-1.4365487835125161,-1.2121998406977963,-1.731579115992515,3.0734861631889285,1.3814435080942284,0.8299841230557186,1.2627861442114028,1.9250326046501027,1.9080588050851894,0.7639114736096101,1.8845924845501338,2.427146114703572,0.22051398690226892,1.4032832253096168,0.8849831369082224,0.9567121974591515,1.0636454007060963,-0.2601985506545939,1.2878781978605265,2.444101185580865,2.153906975156989,1.3833517690762611,0.7708495299701184,1.0270434033558244,3.375053809963538,1.4507097382440926,2.381243526767373,0.08744335730498293,1.4736705514008692,2.0266265224624793,2.233830390843914,2.372985428849458,1.802247191665455,2.6575400353922953,2.11800146978482,1.8522145217655537,1.5594954568986232,2.312931709220742,2.223528434667462,-0.16927402279973922,0.36892654587731866,2.565569348733525,1.4327413803542564,2.1661917693703865,2.3769488030818624,2.293128643245628,1.1644833215600177,2.6799611859896366,2.0987317087655386,1.7172884693761454,2.1693532978292844,1.355583388025959,2.306234587748327,1.4620342902048185,1.4182066376337519,1.9305680886704697,0.7631723136577931,2.2694156075896768,1.9390450494868348,3.8717838484072424,2.8214923747015943,1.9289220425669615,1.2571410404943935,2.222161550776623,1.4089566673657143,-0.2533369311683008,0.663966839801574,0.6182881794850429,1.4455704988958293,2.1099979931352277,1.2667621091578871,1.2081435741284894,1.938840660394051,1.1502881044421063,-0.17038923204902812,-0.37458260552469363,-0.26386183006837965,-0.36825495188646123,0.4596348092311659,-0.3534128354584041,-0.15458251944173296,-0.6596872334097819,-0.34884275927379677,-0.2919803515599937,-0.2868048728821742,-0.37250784468529985,-0.4892179083470123,-0.48233371724487817,-1.1600525041576444,-0.5631607642108353,-0.6496709640237065,-1.2727027497273018,-1.570533787041199,-2.041057007938465,-2.356366075556674,-2.0452830910195243,-1.52764594626875,-2.1389323476426134,-0.4098862708817914,-1.802384217583968,-1.9252186131303444,-1.3118763884735953,-3.515089691219732,-2.406638159574329,-0.7381610441757981,-1.1754652881188656,-0.5560439658826735,-0.6979655372009202,-1.5553089642839848,-0.8825267962042366,-2.592356175042399,-1.274446947904484,-2.0775373127345165,-2.5886674324185908,0.25124910442559145,-0.8477478441497643,-2.193798303654095,-2.2162891398611384,-1.7572293509792751,-2.760899131674547,-2.29734667971282,-2.7689195660475754],\"yaxis\":\"y\",\"type\":\"scatter\"}],                        {\"template\":{\"data\":{\"histogram2dcontour\":[{\"type\":\"histogram2dcontour\",\"colorbar\":{\"outlinewidth\":0,\"ticks\":\"\"},\"colorscale\":[[0.0,\"#0d0887\"],[0.1111111111111111,\"#46039f\"],[0.2222222222222222,\"#7201a8\"],[0.3333333333333333,\"#9c179e\"],[0.4444444444444444,\"#bd3786\"],[0.5555555555555556,\"#d8576b\"],[0.6666666666666666,\"#ed7953\"],[0.7777777777777778,\"#fb9f3a\"],[0.8888888888888888,\"#fdca26\"],[1.0,\"#f0f921\"]]}],\"choropleth\":[{\"type\":\"choropleth\",\"colorbar\":{\"outlinewidth\":0,\"ticks\":\"\"}}],\"histogram2d\":[{\"type\":\"histogram2d\",\"colorbar\":{\"outlinewidth\":0,\"ticks\":\"\"},\"colorscale\":[[0.0,\"#0d0887\"],[0.1111111111111111,\"#46039f\"],[0.2222222222222222,\"#7201a8\"],[0.3333333333333333,\"#9c179e\"],[0.4444444444444444,\"#bd3786\"],[0.5555555555555556,\"#d8576b\"],[0.6666666666666666,\"#ed7953\"],[0.7777777777777778,\"#fb9f3a\"],[0.8888888888888888,\"#fdca26\"],[1.0,\"#f0f921\"]]}],\"heatmap\":[{\"type\":\"heatmap\",\"colorbar\":{\"outlinewidth\":0,\"ticks\":\"\"},\"colorscale\":[[0.0,\"#0d0887\"],[0.1111111111111111,\"#46039f\"],[0.2222222222222222,\"#7201a8\"],[0.3333333333333333,\"#9c179e\"],[0.4444444444444444,\"#bd3786\"],[0.5555555555555556,\"#d8576b\"],[0.6666666666666666,\"#ed7953\"],[0.7777777777777778,\"#fb9f3a\"],[0.8888888888888888,\"#fdca26\"],[1.0,\"#f0f921\"]]}],\"heatmapgl\":[{\"type\":\"heatmapgl\",\"colorbar\":{\"outlinewidth\":0,\"ticks\":\"\"},\"colorscale\":[[0.0,\"#0d0887\"],[0.1111111111111111,\"#46039f\"],[0.2222222222222222,\"#7201a8\"],[0.3333333333333333,\"#9c179e\"],[0.4444444444444444,\"#bd3786\"],[0.5555555555555556,\"#d8576b\"],[0.6666666666666666,\"#ed7953\"],[0.7777777777777778,\"#fb9f3a\"],[0.8888888888888888,\"#fdca26\"],[1.0,\"#f0f921\"]]}],\"contourcarpet\":[{\"type\":\"contourcarpet\",\"colorbar\":{\"outlinewidth\":0,\"ticks\":\"\"}}],\"contour\":[{\"type\":\"contour\",\"colorbar\":{\"outlinewidth\":0,\"ticks\":\"\"},\"colorscale\":[[0.0,\"#0d0887\"],[0.1111111111111111,\"#46039f\"],[0.2222222222222222,\"#7201a8\"],[0.3333333333333333,\"#9c179e\"],[0.4444444444444444,\"#bd3786\"],[0.5555555555555556,\"#d8576b\"],[0.6666666666666666,\"#ed7953\"],[0.7777777777777778,\"#fb9f3a\"],[0.8888888888888888,\"#fdca26\"],[1.0,\"#f0f921\"]]}],\"surface\":[{\"type\":\"surface\",\"colorbar\":{\"outlinewidth\":0,\"ticks\":\"\"},\"colorscale\":[[0.0,\"#0d0887\"],[0.1111111111111111,\"#46039f\"],[0.2222222222222222,\"#7201a8\"],[0.3333333333333333,\"#9c179e\"],[0.4444444444444444,\"#bd3786\"],[0.5555555555555556,\"#d8576b\"],[0.6666666666666666,\"#ed7953\"],[0.7777777777777778,\"#fb9f3a\"],[0.8888888888888888,\"#fdca26\"],[1.0,\"#f0f921\"]]}],\"mesh3d\":[{\"type\":\"mesh3d\",\"colorbar\":{\"outlinewidth\":0,\"ticks\":\"\"}}],\"scatter\":[{\"fillpattern\":{\"fillmode\":\"overlay\",\"size\":10,\"solidity\":0.2},\"type\":\"scatter\"}],\"parcoords\":[{\"type\":\"parcoords\",\"line\":{\"colorbar\":{\"outlinewidth\":0,\"ticks\":\"\"}}}],\"scatterpolargl\":[{\"type\":\"scatterpolargl\",\"marker\":{\"colorbar\":{\"outlinewidth\":0,\"ticks\":\"\"}}}],\"bar\":[{\"error_x\":{\"color\":\"#2a3f5f\"},\"error_y\":{\"color\":\"#2a3f5f\"},\"marker\":{\"line\":{\"color\":\"#E5ECF6\",\"width\":0.5},\"pattern\":{\"fillmode\":\"overlay\",\"size\":10,\"solidity\":0.2}},\"type\":\"bar\"}],\"scattergeo\":[{\"type\":\"scattergeo\",\"marker\":{\"colorbar\":{\"outlinewidth\":0,\"ticks\":\"\"}}}],\"scatterpolar\":[{\"type\":\"scatterpolar\",\"marker\":{\"colorbar\":{\"outlinewidth\":0,\"ticks\":\"\"}}}],\"histogram\":[{\"marker\":{\"pattern\":{\"fillmode\":\"overlay\",\"size\":10,\"solidity\":0.2}},\"type\":\"histogram\"}],\"scattergl\":[{\"type\":\"scattergl\",\"marker\":{\"colorbar\":{\"outlinewidth\":0,\"ticks\":\"\"}}}],\"scatter3d\":[{\"type\":\"scatter3d\",\"line\":{\"colorbar\":{\"outlinewidth\":0,\"ticks\":\"\"}},\"marker\":{\"colorbar\":{\"outlinewidth\":0,\"ticks\":\"\"}}}],\"scattermapbox\":[{\"type\":\"scattermapbox\",\"marker\":{\"colorbar\":{\"outlinewidth\":0,\"ticks\":\"\"}}}],\"scatterternary\":[{\"type\":\"scatterternary\",\"marker\":{\"colorbar\":{\"outlinewidth\":0,\"ticks\":\"\"}}}],\"scattercarpet\":[{\"type\":\"scattercarpet\",\"marker\":{\"colorbar\":{\"outlinewidth\":0,\"ticks\":\"\"}}}],\"carpet\":[{\"aaxis\":{\"endlinecolor\":\"#2a3f5f\",\"gridcolor\":\"white\",\"linecolor\":\"white\",\"minorgridcolor\":\"white\",\"startlinecolor\":\"#2a3f5f\"},\"baxis\":{\"endlinecolor\":\"#2a3f5f\",\"gridcolor\":\"white\",\"linecolor\":\"white\",\"minorgridcolor\":\"white\",\"startlinecolor\":\"#2a3f5f\"},\"type\":\"carpet\"}],\"table\":[{\"cells\":{\"fill\":{\"color\":\"#EBF0F8\"},\"line\":{\"color\":\"white\"}},\"header\":{\"fill\":{\"color\":\"#C8D4E3\"},\"line\":{\"color\":\"white\"}},\"type\":\"table\"}],\"barpolar\":[{\"marker\":{\"line\":{\"color\":\"#E5ECF6\",\"width\":0.5},\"pattern\":{\"fillmode\":\"overlay\",\"size\":10,\"solidity\":0.2}},\"type\":\"barpolar\"}],\"pie\":[{\"automargin\":true,\"type\":\"pie\"}]},\"layout\":{\"autotypenumbers\":\"strict\",\"colorway\":[\"#636efa\",\"#EF553B\",\"#00cc96\",\"#ab63fa\",\"#FFA15A\",\"#19d3f3\",\"#FF6692\",\"#B6E880\",\"#FF97FF\",\"#FECB52\"],\"font\":{\"color\":\"#2a3f5f\"},\"hovermode\":\"closest\",\"hoverlabel\":{\"align\":\"left\"},\"paper_bgcolor\":\"white\",\"plot_bgcolor\":\"#E5ECF6\",\"polar\":{\"bgcolor\":\"#E5ECF6\",\"angularaxis\":{\"gridcolor\":\"white\",\"linecolor\":\"white\",\"ticks\":\"\"},\"radialaxis\":{\"gridcolor\":\"white\",\"linecolor\":\"white\",\"ticks\":\"\"}},\"ternary\":{\"bgcolor\":\"#E5ECF6\",\"aaxis\":{\"gridcolor\":\"white\",\"linecolor\":\"white\",\"ticks\":\"\"},\"baxis\":{\"gridcolor\":\"white\",\"linecolor\":\"white\",\"ticks\":\"\"},\"caxis\":{\"gridcolor\":\"white\",\"linecolor\":\"white\",\"ticks\":\"\"}},\"coloraxis\":{\"colorbar\":{\"outlinewidth\":0,\"ticks\":\"\"}},\"colorscale\":{\"sequential\":[[0.0,\"#0d0887\"],[0.1111111111111111,\"#46039f\"],[0.2222222222222222,\"#7201a8\"],[0.3333333333333333,\"#9c179e\"],[0.4444444444444444,\"#bd3786\"],[0.5555555555555556,\"#d8576b\"],[0.6666666666666666,\"#ed7953\"],[0.7777777777777778,\"#fb9f3a\"],[0.8888888888888888,\"#fdca26\"],[1.0,\"#f0f921\"]],\"sequentialminus\":[[0.0,\"#0d0887\"],[0.1111111111111111,\"#46039f\"],[0.2222222222222222,\"#7201a8\"],[0.3333333333333333,\"#9c179e\"],[0.4444444444444444,\"#bd3786\"],[0.5555555555555556,\"#d8576b\"],[0.6666666666666666,\"#ed7953\"],[0.7777777777777778,\"#fb9f3a\"],[0.8888888888888888,\"#fdca26\"],[1.0,\"#f0f921\"]],\"diverging\":[[0,\"#8e0152\"],[0.1,\"#c51b7d\"],[0.2,\"#de77ae\"],[0.3,\"#f1b6da\"],[0.4,\"#fde0ef\"],[0.5,\"#f7f7f7\"],[0.6,\"#e6f5d0\"],[0.7,\"#b8e186\"],[0.8,\"#7fbc41\"],[0.9,\"#4d9221\"],[1,\"#276419\"]]},\"xaxis\":{\"gridcolor\":\"white\",\"linecolor\":\"white\",\"ticks\":\"\",\"title\":{\"standoff\":15},\"zerolinecolor\":\"white\",\"automargin\":true,\"zerolinewidth\":2},\"yaxis\":{\"gridcolor\":\"white\",\"linecolor\":\"white\",\"ticks\":\"\",\"title\":{\"standoff\":15},\"zerolinecolor\":\"white\",\"automargin\":true,\"zerolinewidth\":2},\"scene\":{\"xaxis\":{\"backgroundcolor\":\"#E5ECF6\",\"gridcolor\":\"white\",\"linecolor\":\"white\",\"showbackground\":true,\"ticks\":\"\",\"zerolinecolor\":\"white\",\"gridwidth\":2},\"yaxis\":{\"backgroundcolor\":\"#E5ECF6\",\"gridcolor\":\"white\",\"linecolor\":\"white\",\"showbackground\":true,\"ticks\":\"\",\"zerolinecolor\":\"white\",\"gridwidth\":2},\"zaxis\":{\"backgroundcolor\":\"#E5ECF6\",\"gridcolor\":\"white\",\"linecolor\":\"white\",\"showbackground\":true,\"ticks\":\"\",\"zerolinecolor\":\"white\",\"gridwidth\":2}},\"shapedefaults\":{\"line\":{\"color\":\"#2a3f5f\"}},\"annotationdefaults\":{\"arrowcolor\":\"#2a3f5f\",\"arrowhead\":0,\"arrowwidth\":1},\"geo\":{\"bgcolor\":\"white\",\"landcolor\":\"#E5ECF6\",\"subunitcolor\":\"white\",\"showland\":true,\"showlakes\":true,\"lakecolor\":\"white\"},\"title\":{\"x\":0.05},\"mapbox\":{\"style\":\"light\"}}},\"xaxis\":{\"anchor\":\"y\",\"domain\":[0.0,1.0],\"title\":{\"text\":\"0\"}},\"yaxis\":{\"anchor\":\"x\",\"domain\":[0.0,1.0],\"title\":{\"text\":\"1\"}},\"coloraxis\":{\"colorbar\":{\"title\":{\"text\":\"color\"}},\"colorscale\":[[0.0,\"#0d0887\"],[0.1111111111111111,\"#46039f\"],[0.2222222222222222,\"#7201a8\"],[0.3333333333333333,\"#9c179e\"],[0.4444444444444444,\"#bd3786\"],[0.5555555555555556,\"#d8576b\"],[0.6666666666666666,\"#ed7953\"],[0.7777777777777778,\"#fb9f3a\"],[0.8888888888888888,\"#fdca26\"],[1.0,\"#f0f921\"]]},\"legend\":{\"tracegroupgap\":0},\"margin\":{\"t\":60},\"annotations\":[{\"arrowhead\":2,\"arrowsize\":2,\"ax\":0,\"axref\":\"x\",\"ay\":0,\"ayref\":\"y\",\"showarrow\":true,\"x\":0.3139765491669664,\"xanchor\":\"right\",\"y\":-0.7664131309214397,\"yanchor\":\"top\"},{\"ax\":0,\"ay\":0,\"text\":\"alcohol\",\"x\":0.3139765491669664,\"xanchor\":\"center\",\"y\":-0.7664131309214397,\"yanchor\":\"bottom\",\"yshift\":5},{\"arrowhead\":2,\"arrowsize\":2,\"ax\":0,\"axref\":\"x\",\"ay\":0,\"ayref\":\"y\",\"showarrow\":true,\"x\":-0.5333851093271786,\"xanchor\":\"right\",\"y\":-0.3564343433350563,\"yanchor\":\"top\"},{\"ax\":0,\"ay\":0,\"text\":\"malic_acid\",\"x\":-0.5333851093271786,\"xanchor\":\"center\",\"y\":-0.3564343433350563,\"yanchor\":\"bottom\",\"yshift\":5},{\"arrowhead\":2,\"arrowsize\":2,\"ax\":0,\"axref\":\"x\",\"ay\":0,\"ayref\":\"y\",\"showarrow\":true,\"x\":-0.0044619129223220895,\"xanchor\":\"right\",\"y\":-0.5008549862747822,\"yanchor\":\"top\"},{\"ax\":0,\"ay\":0,\"text\":\"ash\",\"x\":-0.0044619129223220895,\"xanchor\":\"center\",\"y\":-0.5008549862747822,\"yanchor\":\"bottom\",\"yshift\":5},{\"arrowhead\":2,\"arrowsize\":2,\"ax\":0,\"axref\":\"x\",\"ay\":0,\"ayref\":\"y\",\"showarrow\":true,\"x\":-0.520621560485563,\"xanchor\":\"right\",\"y\":0.01678212352127391,\"yanchor\":\"top\"},{\"ax\":0,\"ay\":0,\"text\":\"alcalinity_of_ash\",\"x\":-0.520621560485563,\"xanchor\":\"center\",\"y\":0.01678212352127391,\"yanchor\":\"bottom\",\"yshift\":5},{\"arrowhead\":2,\"arrowsize\":2,\"ax\":0,\"axref\":\"x\",\"ay\":0,\"ayref\":\"y\",\"showarrow\":true,\"x\":0.30889183188328717,\"xanchor\":\"right\",\"y\":-0.4748117432653049,\"yanchor\":\"top\"},{\"ax\":0,\"ay\":0,\"text\":\"magnesium\",\"x\":0.30889183188328717,\"xanchor\":\"center\",\"y\":-0.4748117432653049,\"yanchor\":\"bottom\",\"yshift\":5},{\"arrowhead\":2,\"arrowsize\":2,\"ax\":0,\"axref\":\"x\",\"ay\":0,\"ayref\":\"y\",\"showarrow\":true,\"x\":0.858551716902561,\"xanchor\":\"right\",\"y\":-0.10306415044463954,\"yanchor\":\"top\"},{\"ax\":0,\"ay\":0,\"text\":\"total_phenols\",\"x\":0.858551716902561,\"xanchor\":\"center\",\"y\":-0.10306415044463954,\"yanchor\":\"bottom\",\"yshift\":5},{\"arrowhead\":2,\"arrowsize\":2,\"ax\":0,\"axref\":\"x\",\"ay\":0,\"ayref\":\"y\",\"showarrow\":true,\"x\":0.9200582503088057,\"xanchor\":\"right\",\"y\":0.005324089466323053,\"yanchor\":\"top\"},{\"ax\":0,\"ay\":0,\"text\":\"flavanoids\",\"x\":0.9200582503088057,\"xanchor\":\"center\",\"y\":0.005324089466323053,\"yanchor\":\"bottom\",\"yshift\":5},{\"arrowhead\":2,\"arrowsize\":2,\"ax\":0,\"axref\":\"x\",\"ay\":0,\"ayref\":\"y\",\"showarrow\":true,\"x\":-0.6494338399613668,\"xanchor\":\"right\",\"y\":-0.0456051008014687,\"yanchor\":\"top\"},{\"ax\":0,\"ay\":0,\"text\":\"nonflavanoid_phenols\",\"x\":-0.6494338399613668,\"xanchor\":\"center\",\"y\":-0.0456051008014687,\"yanchor\":\"bottom\",\"yshift\":5},{\"arrowhead\":2,\"arrowsize\":2,\"ax\":0,\"axref\":\"x\",\"ay\":0,\"ayref\":\"y\",\"showarrow\":true,\"x\":0.6818396825482554,\"xanchor\":\"right\",\"y\":-0.06227904400724169,\"yanchor\":\"top\"},{\"ax\":0,\"ay\":0,\"text\":\"proanthocyanins\",\"x\":0.6818396825482554,\"xanchor\":\"center\",\"y\":-0.06227904400724169,\"yanchor\":\"bottom\",\"yshift\":5},{\"arrowhead\":2,\"arrowsize\":2,\"ax\":0,\"axref\":\"x\",\"ay\":0,\"ayref\":\"y\",\"showarrow\":true,\"x\":-0.1927782422267235,\"xanchor\":\"right\",\"y\":-0.8398518401093344,\"yanchor\":\"top\"},{\"ax\":0,\"ay\":0,\"text\":\"color_intensity\",\"x\":-0.1927782422267235,\"xanchor\":\"center\",\"y\":-0.8398518401093344,\"yanchor\":\"bottom\",\"yshift\":5},{\"arrowhead\":2,\"arrowsize\":2,\"ax\":0,\"axref\":\"x\",\"ay\":0,\"ayref\":\"y\",\"showarrow\":true,\"x\":0.6454777594014256,\"xanchor\":\"right\",\"y\":0.4424869204902049,\"yanchor\":\"top\"},{\"ax\":0,\"ay\":0,\"text\":\"hue\",\"x\":0.6454777594014256,\"xanchor\":\"center\",\"y\":0.4424869204902049,\"yanchor\":\"bottom\",\"yshift\":5},{\"arrowhead\":2,\"arrowsize\":2,\"ax\":0,\"axref\":\"x\",\"ay\":0,\"ayref\":\"y\",\"showarrow\":true,\"x\":0.8183207946002033,\"xanchor\":\"right\",\"y\":0.2606670913075972,\"yanchor\":\"top\"},{\"ax\":0,\"ay\":0,\"text\":\"od280/od315_of_diluted_wines\",\"x\":0.8183207946002033,\"xanchor\":\"center\",\"y\":0.2606670913075972,\"yanchor\":\"bottom\",\"yshift\":5},{\"arrowhead\":2,\"arrowsize\":2,\"ax\":0,\"axref\":\"x\",\"ay\":0,\"ayref\":\"y\",\"showarrow\":true,\"x\":0.6238055277217084,\"xanchor\":\"right\",\"y\":-0.5782392779732446,\"yanchor\":\"top\"},{\"ax\":0,\"ay\":0,\"text\":\"proline\",\"x\":0.6238055277217084,\"xanchor\":\"center\",\"y\":-0.5782392779732446,\"yanchor\":\"bottom\",\"yshift\":5}]},                        {\"responsive\": true}                    ).then(function(){\n",
       "                            \n",
       "var gd = document.getElementById('e51837c3-24f7-4ddf-abde-279a38490e84');\n",
       "var x = new MutationObserver(function (mutations, observer) {{\n",
       "        var display = window.getComputedStyle(gd).display;\n",
       "        if (!display || display === 'none') {{\n",
       "            console.log([gd, 'removed!']);\n",
       "            Plotly.purge(gd);\n",
       "            observer.disconnect();\n",
       "        }}\n",
       "}});\n",
       "\n",
       "// Listen for the removal of the full notebook cells\n",
       "var notebookContainer = gd.closest('#notebook-container');\n",
       "if (notebookContainer) {{\n",
       "    x.observe(notebookContainer, {childList: true});\n",
       "}}\n",
       "\n",
       "// Listen for the clearing of the current output cell\n",
       "var outputEl = gd.closest('.output');\n",
       "if (outputEl) {{\n",
       "    x.observe(outputEl, {childList: true});\n",
       "}}\n",
       "\n",
       "                        })                };                });            </script>        </div>"
      ]
     },
     "metadata": {},
     "output_type": "display_data"
    }
   ],
   "source": [
    "import plotly.express as px\n",
    "\n",
    "loadings = pca.components_.T * np.sqrt(pca.explained_variance_)\n",
    "\n",
    "features = wine.feature_names\n",
    "\n",
    "fig = px.scatter(components, x=0, y=1, color = wine.target)\n",
    "\n",
    "for i, feature in enumerate(features):\n",
    "    fig.add_annotation(\n",
    "        ax=0, ay=0,\n",
    "        axref=\"x\", ayref=\"y\",\n",
    "        x=loadings[i, 0],\n",
    "        y=loadings[i, 1],\n",
    "        showarrow=True,\n",
    "        arrowsize=2,\n",
    "        arrowhead=2,\n",
    "        xanchor=\"right\",\n",
    "        yanchor=\"top\"\n",
    "    )\n",
    "    fig.add_annotation(\n",
    "        x=loadings[i, 0],\n",
    "        y=loadings[i, 1],\n",
    "        ax=0, ay=0,\n",
    "        xanchor=\"center\",\n",
    "        yanchor=\"bottom\",\n",
    "        text=feature,\n",
    "        yshift=5,\n",
    "    )\n",
    "fig.show()"
   ]
  },
  {
   "cell_type": "code",
   "execution_count": null,
   "id": "deff55c0",
   "metadata": {},
   "outputs": [],
   "source": []
  }
 ],
 "metadata": {
  "kernelspec": {
   "display_name": "Python [conda env:anaconda3-funtimes] *",
   "language": "python",
   "name": "conda-env-anaconda3-funtimes-py"
  },
  "language_info": {
   "codemirror_mode": {
    "name": "ipython",
    "version": 3
   },
   "file_extension": ".py",
   "mimetype": "text/x-python",
   "name": "python",
   "nbconvert_exporter": "python",
   "pygments_lexer": "ipython3",
   "version": "3.9.15"
  }
 },
 "nbformat": 4,
 "nbformat_minor": 5
}
